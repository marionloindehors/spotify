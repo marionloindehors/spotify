{
 "cells": [
  {
   "cell_type": "markdown",
   "id": "a3aeb073",
   "metadata": {
    "heading_collapsed": true
   },
   "source": [
    "## Project Description \n"
   ]
  },
  {
   "cell_type": "markdown",
   "id": "69c0d869",
   "metadata": {
    "hidden": true
   },
   "source": [
    "🎯 **The objective is to create a model that predicts the popularity of a song based on its characteristics**"
   ]
  },
  {
   "cell_type": "markdown",
   "id": "e9d64eaa",
   "metadata": {
    "hidden": true
   },
   "source": [
    "The Dataset contains a list of songs with the following characteristics:\n",
    "\n",
    "**acousticness**: whether the track is acoustic  \n",
    "\n",
    "**danceability**: describes how suitable a track is for dancing  \n",
    "\n",
    "**duration_ms**: duration of the track in milliseconds  \n",
    "\n",
    "**energy**: represents a perceptual measure of intensity and activity  \n",
    "\n",
    "**explicit**: whether the track has explicit lyrics  \n",
    "\n",
    "**id**: id for the track  \n",
    "\n",
    "**instrumentalness**: predicts whether a track contains no vocals  \n",
    "\n",
    "**key**: the key the track is in  \n",
    "\n",
    "**liveness**: detects the presence of an audience in the recording  \n",
    "\n",
    "**loudness**: the overall loudness of a track in decibels  \n",
    "\n",
    "**mode**: modality of a track  \n",
    "\n",
    "**name**: name of the track  \n",
    "\n",
    "**popularity**: popularity of the track  \n",
    "\n",
    "**release_date**: release date  \n",
    "\n",
    "**speechiness**: detects the presence of spoken words in a track  \n",
    "\n",
    "**tempo**: overall estimated tempo of a track in beats per minute  \n",
    "\n",
    "**valence**: describes the musical positiveness conveyed by a track  \n",
    "\n",
    "**artist**: artist who performed the track"
   ]
  },
  {
   "cell_type": "markdown",
   "id": "7250d872",
   "metadata": {
    "heading_collapsed": true
   },
   "source": [
    "## Data Cleaning "
   ]
  },
  {
   "cell_type": "markdown",
   "id": "5df96cc5",
   "metadata": {
    "hidden": true
   },
   "source": [
    "🎯 **Load and clean the data**\n"
   ]
  },
  {
   "cell_type": "code",
   "execution_count": 3,
   "id": "39d178af",
   "metadata": {
    "hidden": true
   },
   "outputs": [],
   "source": [
    "import pandas as pd\n",
    "import numpy as np"
   ]
  },
  {
   "cell_type": "code",
   "execution_count": null,
   "id": "ce61c584",
   "metadata": {
    "hidden": true
   },
   "outputs": [],
   "source": [
    "url = 'https://wagon-public-datasets.s3.amazonaws.com/certification_paris_2021Q1/spotify_popularity_train.csv'\n",
    "df = pd.read_csv(url)\n",
    "print(f'df shape : {df.shape}')\n",
    "df.head()"
   ]
  },
  {
   "cell_type": "markdown",
   "id": "47043147",
   "metadata": {
    "hidden": true
   },
   "source": [
    "📝 Clean the data, make sure that no duplicates nor missing values remain in df"
   ]
  },
  {
   "cell_type": "code",
   "execution_count": null,
   "id": "d5e0cc00",
   "metadata": {
    "hidden": true
   },
   "outputs": [],
   "source": [
    "# Counting duplicates\n",
    "print(f'duplicates : {df.duplicated().sum()}')\n",
    "\n",
    "# Counting the number of NaN for each column\n",
    "df.isnull().sum().sort_values(ascending=False)"
   ]
  },
  {
   "cell_type": "code",
   "execution_count": null,
   "id": "ffe4892b",
   "metadata": {
    "hidden": true
   },
   "outputs": [],
   "source": [
    "# Drop duplicates and NaN from df \n",
    "df = df.drop_duplicates().dropna()\n",
    "\n",
    "# Check duplicates and NaN are well droped\n",
    "print(f'duplicates : {df.duplicated().sum()}')\n",
    "print(f'duplicates : {df.isnull().sum()}')\n",
    "\n",
    "#Check new shape \n",
    "print(f'df new shape : {df.shape}')"
   ]
  },
  {
   "cell_type": "markdown",
   "id": "6ec72e90",
   "metadata": {},
   "source": [
    "## Supervised Learning"
   ]
  },
  {
   "cell_type": "markdown",
   "id": "68d732bf",
   "metadata": {},
   "source": [
    "🎯 **Baseline and evaluation of a basic model**"
   ]
  },
  {
   "cell_type": "markdown",
   "id": "06f49c26",
   "metadata": {},
   "source": [
    "📝 Scoring metric : Negative RMSE\n",
    "\n",
    "- strongly penalize largest errors relatively to smaller ones  \n",
    "- measure errors in the same unit as the target `popularity`  \n",
    "- the greater, the better (metric_good_model > metric_bad_model) "
   ]
  },
  {
   "cell_type": "code",
   "execution_count": null,
   "id": "1102b896",
   "metadata": {},
   "outputs": [],
   "source": [
    "scoring = 'neg_root_mean_squared_error'"
   ]
  },
  {
   "cell_type": "markdown",
   "id": "ed6bf3dc",
   "metadata": {},
   "source": [
    "📝 Features and target"
   ]
  },
  {
   "cell_type": "code",
   "execution_count": null,
   "id": "d1ac8870",
   "metadata": {},
   "outputs": [],
   "source": [
    "X_simple = df.select_dtypes(include=['int64', 'float64'])\n",
    "y = df['popularity']"
   ]
  },
  {
   "cell_type": "markdown",
   "id": "2fb08ba2",
   "metadata": {},
   "source": [
    "📝 Baseline score"
   ]
  },
  {
   "cell_type": "code",
   "execution_count": null,
   "id": "47f7e953",
   "metadata": {},
   "outputs": [],
   "source": [
    "# Compute mean squared error\n",
    "mse = np.mean((y - y.mean())**2)\n",
    "\n",
    "# Compute the negative RMSE \n",
    "baseline_score = -np.sqrt(mse)\n",
    "print(f'Baseline score is {baseline_score}')"
   ]
  },
  {
   "cell_type": "code",
   "execution_count": null,
   "id": "cd43aa48",
   "metadata": {},
   "outputs": [],
   "source": []
  }
 ],
 "metadata": {
  "kernelspec": {
   "display_name": "Python 3 (ipykernel)",
   "language": "python",
   "name": "python3"
  },
  "language_info": {
   "codemirror_mode": {
    "name": "ipython",
    "version": 3
   },
   "file_extension": ".py",
   "mimetype": "text/x-python",
   "name": "python",
   "nbconvert_exporter": "python",
   "pygments_lexer": "ipython3",
   "version": "3.10.6"
  },
  "toc": {
   "base_numbering": 1,
   "nav_menu": {},
   "number_sections": true,
   "sideBar": true,
   "skip_h1_title": false,
   "title_cell": "Table of Contents",
   "title_sidebar": "Contents",
   "toc_cell": false,
   "toc_position": {},
   "toc_section_display": true,
   "toc_window_display": false
  }
 },
 "nbformat": 4,
 "nbformat_minor": 5
}
