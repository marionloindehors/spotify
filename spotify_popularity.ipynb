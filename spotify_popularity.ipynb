{
 "cells": [
  {
   "cell_type": "markdown",
   "id": "8110a0a1",
   "metadata": {},
   "source": [
    "## Project Description \n"
   ]
  },
  {
   "cell_type": "markdown",
   "id": "32ae1e8e",
   "metadata": {},
   "source": [
    "🎯 **The objective is to create a model that predicts the popularity of a song based on its characteristics**"
   ]
  },
  {
   "cell_type": "markdown",
   "id": "b049a518",
   "metadata": {},
   "source": [
    "### Details on dataset"
   ]
  },
  {
   "cell_type": "markdown",
   "id": "7e8a0192",
   "metadata": {},
   "source": [
    "The Dataset contains a list of songs with the following characteristics:\n",
    "\n",
    "**acousticness**: whether the track is acoustic  \n",
    "\n",
    "**danceability**: describes how suitable a track is for dancing  \n",
    "\n",
    "**duration_ms**: duration of the track in milliseconds  \n",
    "\n",
    "**energy**: represents a perceptual measure of intensity and activity  \n",
    "\n",
    "**explicit**: whether the track has explicit lyrics  \n",
    "\n",
    "**id**: id for the track  \n",
    "\n",
    "**instrumentalness**: predicts whether a track contains no vocals  \n",
    "\n",
    "**key**: the key the track is in  \n",
    "\n",
    "**liveness**: detects the presence of an audience in the recording  \n",
    "\n",
    "**loudness**: the overall loudness of a track in decibels  \n",
    "\n",
    "**mode**: modality of a track  \n",
    "\n",
    "**name**: name of the track  \n",
    "\n",
    "**popularity**: popularity of the track  \n",
    "\n",
    "**release_date**: release date  \n",
    "\n",
    "**speechiness**: detects the presence of spoken words in a track  \n",
    "\n",
    "**tempo**: overall estimated tempo of a track in beats per minute  \n",
    "\n",
    "**valence**: describes the musical positiveness conveyed by a track  \n",
    "\n",
    "**artist**: artist who performed the track"
   ]
  },
  {
   "cell_type": "markdown",
   "id": "c239320a",
   "metadata": {},
   "source": [
    "## Data Cleaning "
   ]
  },
  {
   "cell_type": "markdown",
   "id": "c1020f5b",
   "metadata": {},
   "source": [
    "🎯 **Load and clean the data**\n"
   ]
  },
  {
   "cell_type": "code",
   "execution_count": 1,
   "id": "75d56481",
   "metadata": {},
   "outputs": [],
   "source": [
    "import pandas as pd\n",
    "import numpy as np"
   ]
  },
  {
   "cell_type": "code",
   "execution_count": 2,
   "id": "6aa3fe2d",
   "metadata": {},
   "outputs": [
    {
     "name": "stdout",
     "output_type": "stream",
     "text": [
      "df shape : (52317, 18)\n"
     ]
    },
    {
     "data": {
      "text/html": [
       "<div>\n",
       "<style scoped>\n",
       "    .dataframe tbody tr th:only-of-type {\n",
       "        vertical-align: middle;\n",
       "    }\n",
       "\n",
       "    .dataframe tbody tr th {\n",
       "        vertical-align: top;\n",
       "    }\n",
       "\n",
       "    .dataframe thead th {\n",
       "        text-align: right;\n",
       "    }\n",
       "</style>\n",
       "<table border=\"1\" class=\"dataframe\">\n",
       "  <thead>\n",
       "    <tr style=\"text-align: right;\">\n",
       "      <th></th>\n",
       "      <th>acousticness</th>\n",
       "      <th>danceability</th>\n",
       "      <th>duration_ms</th>\n",
       "      <th>energy</th>\n",
       "      <th>explicit</th>\n",
       "      <th>id</th>\n",
       "      <th>instrumentalness</th>\n",
       "      <th>key</th>\n",
       "      <th>liveness</th>\n",
       "      <th>loudness</th>\n",
       "      <th>mode</th>\n",
       "      <th>name</th>\n",
       "      <th>popularity</th>\n",
       "      <th>release_date</th>\n",
       "      <th>speechiness</th>\n",
       "      <th>tempo</th>\n",
       "      <th>valence</th>\n",
       "      <th>artist</th>\n",
       "    </tr>\n",
       "  </thead>\n",
       "  <tbody>\n",
       "    <tr>\n",
       "      <th>0</th>\n",
       "      <td>0.65400</td>\n",
       "      <td>0.499</td>\n",
       "      <td>219827</td>\n",
       "      <td>0.190</td>\n",
       "      <td>0</td>\n",
       "      <td>0B6BeEUd6UwFlbsHMQKjob</td>\n",
       "      <td>0.004090</td>\n",
       "      <td>7</td>\n",
       "      <td>0.0898</td>\n",
       "      <td>-16.435</td>\n",
       "      <td>1</td>\n",
       "      <td>Back in the Goodle Days</td>\n",
       "      <td>40</td>\n",
       "      <td>1971</td>\n",
       "      <td>0.0454</td>\n",
       "      <td>149.460</td>\n",
       "      <td>0.4300</td>\n",
       "      <td>John Hartford</td>\n",
       "    </tr>\n",
       "    <tr>\n",
       "      <th>1</th>\n",
       "      <td>0.00592</td>\n",
       "      <td>0.439</td>\n",
       "      <td>483948</td>\n",
       "      <td>0.808</td>\n",
       "      <td>0</td>\n",
       "      <td>5Gpx4lJy3vKmIvjwbiR5c8</td>\n",
       "      <td>0.140000</td>\n",
       "      <td>2</td>\n",
       "      <td>0.0890</td>\n",
       "      <td>-8.497</td>\n",
       "      <td>1</td>\n",
       "      <td>Worlds Which Break Us - Intro Mix</td>\n",
       "      <td>22</td>\n",
       "      <td>2015-02-02</td>\n",
       "      <td>0.0677</td>\n",
       "      <td>138.040</td>\n",
       "      <td>0.0587</td>\n",
       "      <td>Driftmoon</td>\n",
       "    </tr>\n",
       "    <tr>\n",
       "      <th>2</th>\n",
       "      <td>0.73400</td>\n",
       "      <td>0.523</td>\n",
       "      <td>245693</td>\n",
       "      <td>0.288</td>\n",
       "      <td>0</td>\n",
       "      <td>7MxuUYqrCIy93h1EEHrIrL</td>\n",
       "      <td>0.000000</td>\n",
       "      <td>0</td>\n",
       "      <td>0.0771</td>\n",
       "      <td>-11.506</td>\n",
       "      <td>1</td>\n",
       "      <td>I'm The Greatest Star</td>\n",
       "      <td>40</td>\n",
       "      <td>1968-09-01</td>\n",
       "      <td>0.2140</td>\n",
       "      <td>75.869</td>\n",
       "      <td>0.4640</td>\n",
       "      <td>Barbra Streisand</td>\n",
       "    </tr>\n",
       "    <tr>\n",
       "      <th>3</th>\n",
       "      <td>0.42900</td>\n",
       "      <td>0.681</td>\n",
       "      <td>130026</td>\n",
       "      <td>0.165</td>\n",
       "      <td>0</td>\n",
       "      <td>4GeYbfIx1vSQXTfQb1m8Th</td>\n",
       "      <td>0.000000</td>\n",
       "      <td>11</td>\n",
       "      <td>0.3940</td>\n",
       "      <td>-21.457</td>\n",
       "      <td>0</td>\n",
       "      <td>Kapitel 281 - Der Page und die Herzogin</td>\n",
       "      <td>1</td>\n",
       "      <td>1926</td>\n",
       "      <td>0.9460</td>\n",
       "      <td>145.333</td>\n",
       "      <td>0.2880</td>\n",
       "      <td>Georgette Heyer</td>\n",
       "    </tr>\n",
       "    <tr>\n",
       "      <th>4</th>\n",
       "      <td>0.56200</td>\n",
       "      <td>0.543</td>\n",
       "      <td>129813</td>\n",
       "      <td>0.575</td>\n",
       "      <td>0</td>\n",
       "      <td>2JPGGZwajjMk0vvhfC17RK</td>\n",
       "      <td>0.000004</td>\n",
       "      <td>2</td>\n",
       "      <td>0.1270</td>\n",
       "      <td>-7.374</td>\n",
       "      <td>1</td>\n",
       "      <td>Away from You</td>\n",
       "      <td>15</td>\n",
       "      <td>2008-02-11</td>\n",
       "      <td>0.0265</td>\n",
       "      <td>139.272</td>\n",
       "      <td>0.8010</td>\n",
       "      <td>Gerry &amp; The Pacemakers</td>\n",
       "    </tr>\n",
       "  </tbody>\n",
       "</table>\n",
       "</div>"
      ],
      "text/plain": [
       "   acousticness  danceability  duration_ms  energy  explicit  \\\n",
       "0       0.65400         0.499       219827   0.190         0   \n",
       "1       0.00592         0.439       483948   0.808         0   \n",
       "2       0.73400         0.523       245693   0.288         0   \n",
       "3       0.42900         0.681       130026   0.165         0   \n",
       "4       0.56200         0.543       129813   0.575         0   \n",
       "\n",
       "                       id  instrumentalness  key  liveness  loudness  mode  \\\n",
       "0  0B6BeEUd6UwFlbsHMQKjob          0.004090    7    0.0898   -16.435     1   \n",
       "1  5Gpx4lJy3vKmIvjwbiR5c8          0.140000    2    0.0890    -8.497     1   \n",
       "2  7MxuUYqrCIy93h1EEHrIrL          0.000000    0    0.0771   -11.506     1   \n",
       "3  4GeYbfIx1vSQXTfQb1m8Th          0.000000   11    0.3940   -21.457     0   \n",
       "4  2JPGGZwajjMk0vvhfC17RK          0.000004    2    0.1270    -7.374     1   \n",
       "\n",
       "                                      name  popularity release_date  \\\n",
       "0                  Back in the Goodle Days          40         1971   \n",
       "1        Worlds Which Break Us - Intro Mix          22   2015-02-02   \n",
       "2                    I'm The Greatest Star          40   1968-09-01   \n",
       "3  Kapitel 281 - Der Page und die Herzogin           1         1926   \n",
       "4                            Away from You          15   2008-02-11   \n",
       "\n",
       "   speechiness    tempo  valence                  artist  \n",
       "0       0.0454  149.460   0.4300           John Hartford  \n",
       "1       0.0677  138.040   0.0587               Driftmoon  \n",
       "2       0.2140   75.869   0.4640        Barbra Streisand  \n",
       "3       0.9460  145.333   0.2880         Georgette Heyer  \n",
       "4       0.0265  139.272   0.8010  Gerry & The Pacemakers  "
      ]
     },
     "execution_count": 2,
     "metadata": {},
     "output_type": "execute_result"
    }
   ],
   "source": [
    "url = 'https://wagon-public-datasets.s3.amazonaws.com/certification_paris_2021Q1/spotify_popularity_train.csv'\n",
    "df = pd.read_csv(url)\n",
    "print(f'df shape : {df.shape}')\n",
    "df.head()"
   ]
  },
  {
   "cell_type": "markdown",
   "id": "cb9e2ab8",
   "metadata": {},
   "source": [
    "📝 Clean the data : make sure that no duplicates nor missing values remain in df"
   ]
  },
  {
   "cell_type": "code",
   "execution_count": 3,
   "id": "a84a1d41",
   "metadata": {},
   "outputs": [
    {
     "name": "stdout",
     "output_type": "stream",
     "text": [
      "duplicates : 260\n"
     ]
    },
    {
     "data": {
      "text/plain": [
       "artist              4\n",
       "danceability        0\n",
       "valence             0\n",
       "tempo               0\n",
       "speechiness         0\n",
       "release_date        0\n",
       "popularity          0\n",
       "name                0\n",
       "mode                0\n",
       "acousticness        0\n",
       "liveness            0\n",
       "key                 0\n",
       "instrumentalness    0\n",
       "id                  0\n",
       "explicit            0\n",
       "energy              0\n",
       "duration_ms         0\n",
       "loudness            0\n",
       "dtype: int64"
      ]
     },
     "execution_count": 3,
     "metadata": {},
     "output_type": "execute_result"
    }
   ],
   "source": [
    "# Counting duplicates\n",
    "print(f'duplicates : {df.duplicated().sum()}')\n",
    "\n",
    "# Counting the number of NaN for each column\n",
    "df.isnull().sum().sort_values(ascending=False)"
   ]
  },
  {
   "cell_type": "code",
   "execution_count": 4,
   "id": "616ffa3a",
   "metadata": {},
   "outputs": [
    {
     "name": "stdout",
     "output_type": "stream",
     "text": [
      "duplicates : 0\n",
      "duplicates : acousticness        0\n",
      "danceability        0\n",
      "duration_ms         0\n",
      "energy              0\n",
      "explicit            0\n",
      "id                  0\n",
      "instrumentalness    0\n",
      "key                 0\n",
      "liveness            0\n",
      "loudness            0\n",
      "mode                0\n",
      "name                0\n",
      "popularity          0\n",
      "release_date        0\n",
      "speechiness         0\n",
      "tempo               0\n",
      "valence             0\n",
      "artist              0\n",
      "dtype: int64\n",
      "df new shape : (52053, 18)\n"
     ]
    }
   ],
   "source": [
    "# Drop duplicates and NaN from df \n",
    "df = df.drop_duplicates().dropna()\n",
    "\n",
    "# Check duplicates and NaN are well droped\n",
    "print(f'duplicates : {df.duplicated().sum()}')\n",
    "print(f'duplicates : {df.isnull().sum()}')\n",
    "\n",
    "#Check new shape \n",
    "print(f'df new shape : {df.shape}')"
   ]
  },
  {
   "cell_type": "markdown",
   "id": "6ecc2993",
   "metadata": {},
   "source": [
    "## Supervised Learning"
   ]
  },
  {
   "cell_type": "markdown",
   "id": "b96c0f84",
   "metadata": {},
   "source": [
    "🎯 **Baseline and evaluation of a basic model**"
   ]
  },
  {
   "cell_type": "markdown",
   "id": "d7d83a08",
   "metadata": {},
   "source": [
    "📝 Scoring metric : Negative RMSE\n",
    "\n",
    "- strongly penalize largest errors relatively to smaller ones  \n",
    "- measure errors in the same unit as the target `popularity`  \n",
    "- the greater, the better (metric_good_model > metric_bad_model) "
   ]
  },
  {
   "cell_type": "code",
   "execution_count": 5,
   "id": "748910ee",
   "metadata": {},
   "outputs": [],
   "source": [
    "scoring = 'neg_root_mean_squared_error'"
   ]
  },
  {
   "cell_type": "markdown",
   "id": "473d5d3c",
   "metadata": {},
   "source": [
    "📝 Features and target"
   ]
  },
  {
   "cell_type": "code",
   "execution_count": 6,
   "id": "8c649950",
   "metadata": {},
   "outputs": [],
   "source": [
    "X_simple = df.select_dtypes(include=['int64', 'float64'])\n",
    "y = df['popularity']"
   ]
  },
  {
   "cell_type": "markdown",
   "id": "31ea9956",
   "metadata": {},
   "source": [
    "📝 Baseline score"
   ]
  },
  {
   "cell_type": "code",
   "execution_count": 7,
   "id": "2d7aeef5",
   "metadata": {},
   "outputs": [
    {
     "name": "stdout",
     "output_type": "stream",
     "text": [
      "Baseline score is -21.86400900273295\n"
     ]
    }
   ],
   "source": [
    "# Compute mean squared error\n",
    "mse = np.mean((y - y.mean())**2)\n",
    "\n",
    "# Compute the negative RMSE \n",
    "baseline_score = -np.sqrt(mse)\n",
    "print(f'Baseline score is {baseline_score}')"
   ]
  },
  {
   "cell_type": "markdown",
   "id": "5f9f6944",
   "metadata": {},
   "source": [
    "📝 Split data and Evaluate on basic Linear Regression"
   ]
  },
  {
   "cell_type": "code",
   "execution_count": 8,
   "id": "8143b00e",
   "metadata": {},
   "outputs": [
    {
     "name": "stdout",
     "output_type": "stream",
     "text": [
      "X_train_simple shape : (26026, 14)\n",
      "y_train : (26026,)\n"
     ]
    }
   ],
   "source": [
    "# Train-Test split\n",
    "from sklearn.model_selection import train_test_split\n",
    "\n",
    "X_train_simple, X_test_simple, y_train, y_test = train_test_split(X_simple, y, test_size=0.5, random_state=42)\n",
    "\n",
    "print(f'X_train_simple shape : {X_train_simple.shape}')\n",
    "print(f'y_train : {y_train.shape}')"
   ]
  },
  {
   "cell_type": "code",
   "execution_count": 9,
   "id": "3bba7aa6",
   "metadata": {},
   "outputs": [
    {
     "name": "stdout",
     "output_type": "stream",
     "text": [
      "Score on basic Linear Regression : -2.7259003397286506e-14\n"
     ]
    }
   ],
   "source": [
    "from sklearn.linear_model import LinearRegression\n",
    "from sklearn.metrics import make_scorer\n",
    "from sklearn.metrics import mean_squared_error\n",
    "\n",
    "# Create function for neg rmse\n",
    "def neg_rmse(y_true, y_pred):\n",
    "    rmse = mean_squared_error(y_true, y_pred, squared=False)\n",
    "    return -rmse\n",
    "\n",
    "# Create scorer \n",
    "score = make_scorer(neg_rmse, greater_is_better=True)\n",
    "\n",
    "# Instanciate model\n",
    "model = LinearRegression()\n",
    "\n",
    "# Train model on train set\n",
    "model.fit(X_train_simple, y_train)\n",
    "\n",
    "# Predict on test set\n",
    "y_pred = model.predict(X_test_simple)\n",
    "\n",
    "# Evaluate with neg rmse\n",
    "score_simple_holdout = score(model, X_test_simple, y_test)\n",
    "\n",
    "print(f'Score on basic Linear Regression : {score_simple_holdout}')"
   ]
  },
  {
   "cell_type": "markdown",
   "id": "cefba613",
   "metadata": {},
   "source": [
    "📝 Cross-Validation with 5 folds"
   ]
  },
  {
   "cell_type": "code",
   "execution_count": 10,
   "id": "3cb42cf9",
   "metadata": {},
   "outputs": [
    {
     "name": "stdout",
     "output_type": "stream",
     "text": [
      "Mean score : -9.3361908226388e-14\n",
      "Standard deviation : 1.797723290700456e-14\n"
     ]
    }
   ],
   "source": [
    "from sklearn.model_selection import cross_val_score\n",
    "\n",
    "scores_result = cross_val_score(model, X_train_simple, y_train, cv=5, scoring=scoring)\n",
    "\n",
    "score_simple_cv_mean = scores_result.mean()\n",
    "score_simple_cv_std = scores_result.std()\n",
    "\n",
    "print(f\"Mean score : {score_simple_cv_mean}\")\n",
    "print(f\"Standard deviation : {score_simple_cv_std}\")"
   ]
  },
  {
   "cell_type": "markdown",
   "id": "111acc86",
   "metadata": {},
   "source": [
    "## Feature Engineering"
   ]
  },
  {
   "cell_type": "markdown",
   "id": "92ef6243",
   "metadata": {},
   "source": [
    "🎯 Improving performance using the feature release_date"
   ]
  },
  {
   "cell_type": "code",
   "execution_count": 11,
   "id": "2ce87d62",
   "metadata": {},
   "outputs": [
    {
     "name": "stdout",
     "output_type": "stream",
     "text": [
      "X_engineered shape : (52053, 14)\n"
     ]
    }
   ],
   "source": [
    "# Convert release_date to datetime\n",
    "year_col = pd.to_datetime(df['release_date'])\n",
    "\n",
    "# Extract year\n",
    "year_col = year_col.dt.year\n",
    "\n",
    "# Join year_col to X_Simple into new DF X_engineered\n",
    "X_engineered = X_simple.join(year_col)\n",
    "X_engineered = X_engineered.drop(columns='release_date')\n",
    "\n",
    "print(f'X_engineered shape : {X_engineered.shape}')"
   ]
  },
  {
   "cell_type": "markdown",
   "id": "c9510da2",
   "metadata": {},
   "source": [
    "📝 Retrain a basic Linear Regression to check the impact of the new feature on the performance of the model"
   ]
  },
  {
   "cell_type": "code",
   "execution_count": 12,
   "id": "7748f5bb",
   "metadata": {},
   "outputs": [
    {
     "name": "stdout",
     "output_type": "stream",
     "text": [
      "New score : -8.998100269600813e-14\n"
     ]
    }
   ],
   "source": [
    "# Train model on train set\n",
    "model.fit(X_engineered, y)\n",
    "\n",
    "# Cross Validate\n",
    "scores_result = cross_val_score(model, X_engineered, y, cv=5, scoring=scoring)\n",
    "score_engineered = scores_result.mean()\n",
    "\n",
    "print(f'New score : {score_engineered}')"
   ]
  },
  {
   "cell_type": "markdown",
   "id": "e0bd94ad",
   "metadata": {},
   "source": [
    "## Unsupervised Learning"
   ]
  },
  {
   "cell_type": "markdown",
   "id": "a412a5e5",
   "metadata": {},
   "source": [
    "📝 Using a KMeans to assign each track to a cluster"
   ]
  },
  {
   "cell_type": "code",
   "execution_count": 13,
   "id": "07f4a844",
   "metadata": {},
   "outputs": [
    {
     "data": {
      "text/html": [
       "<div>\n",
       "<style scoped>\n",
       "    .dataframe tbody tr th:only-of-type {\n",
       "        vertical-align: middle;\n",
       "    }\n",
       "\n",
       "    .dataframe tbody tr th {\n",
       "        vertical-align: top;\n",
       "    }\n",
       "\n",
       "    .dataframe thead th {\n",
       "        text-align: right;\n",
       "    }\n",
       "</style>\n",
       "<table border=\"1\" class=\"dataframe\">\n",
       "  <thead>\n",
       "    <tr style=\"text-align: right;\">\n",
       "      <th></th>\n",
       "      <th>acousticness</th>\n",
       "      <th>danceability</th>\n",
       "      <th>duration_ms</th>\n",
       "      <th>energy</th>\n",
       "      <th>explicit</th>\n",
       "      <th>instrumentalness</th>\n",
       "      <th>key</th>\n",
       "      <th>liveness</th>\n",
       "      <th>loudness</th>\n",
       "      <th>mode</th>\n",
       "      <th>popularity</th>\n",
       "      <th>speechiness</th>\n",
       "      <th>tempo</th>\n",
       "      <th>valence</th>\n",
       "      <th>clusters</th>\n",
       "    </tr>\n",
       "  </thead>\n",
       "  <tbody>\n",
       "    <tr>\n",
       "      <th>0</th>\n",
       "      <td>0.65400</td>\n",
       "      <td>0.499</td>\n",
       "      <td>219827</td>\n",
       "      <td>0.190</td>\n",
       "      <td>0</td>\n",
       "      <td>0.004090</td>\n",
       "      <td>7</td>\n",
       "      <td>0.0898</td>\n",
       "      <td>-16.435</td>\n",
       "      <td>1</td>\n",
       "      <td>40</td>\n",
       "      <td>0.0454</td>\n",
       "      <td>149.460</td>\n",
       "      <td>0.4300</td>\n",
       "      <td>0</td>\n",
       "    </tr>\n",
       "    <tr>\n",
       "      <th>1</th>\n",
       "      <td>0.00592</td>\n",
       "      <td>0.439</td>\n",
       "      <td>483948</td>\n",
       "      <td>0.808</td>\n",
       "      <td>0</td>\n",
       "      <td>0.140000</td>\n",
       "      <td>2</td>\n",
       "      <td>0.0890</td>\n",
       "      <td>-8.497</td>\n",
       "      <td>1</td>\n",
       "      <td>22</td>\n",
       "      <td>0.0677</td>\n",
       "      <td>138.040</td>\n",
       "      <td>0.0587</td>\n",
       "      <td>4</td>\n",
       "    </tr>\n",
       "    <tr>\n",
       "      <th>2</th>\n",
       "      <td>0.73400</td>\n",
       "      <td>0.523</td>\n",
       "      <td>245693</td>\n",
       "      <td>0.288</td>\n",
       "      <td>0</td>\n",
       "      <td>0.000000</td>\n",
       "      <td>0</td>\n",
       "      <td>0.0771</td>\n",
       "      <td>-11.506</td>\n",
       "      <td>1</td>\n",
       "      <td>40</td>\n",
       "      <td>0.2140</td>\n",
       "      <td>75.869</td>\n",
       "      <td>0.4640</td>\n",
       "      <td>0</td>\n",
       "    </tr>\n",
       "    <tr>\n",
       "      <th>3</th>\n",
       "      <td>0.42900</td>\n",
       "      <td>0.681</td>\n",
       "      <td>130026</td>\n",
       "      <td>0.165</td>\n",
       "      <td>0</td>\n",
       "      <td>0.000000</td>\n",
       "      <td>11</td>\n",
       "      <td>0.3940</td>\n",
       "      <td>-21.457</td>\n",
       "      <td>0</td>\n",
       "      <td>1</td>\n",
       "      <td>0.9460</td>\n",
       "      <td>145.333</td>\n",
       "      <td>0.2880</td>\n",
       "      <td>3</td>\n",
       "    </tr>\n",
       "    <tr>\n",
       "      <th>4</th>\n",
       "      <td>0.56200</td>\n",
       "      <td>0.543</td>\n",
       "      <td>129813</td>\n",
       "      <td>0.575</td>\n",
       "      <td>0</td>\n",
       "      <td>0.000004</td>\n",
       "      <td>2</td>\n",
       "      <td>0.1270</td>\n",
       "      <td>-7.374</td>\n",
       "      <td>1</td>\n",
       "      <td>15</td>\n",
       "      <td>0.0265</td>\n",
       "      <td>139.272</td>\n",
       "      <td>0.8010</td>\n",
       "      <td>3</td>\n",
       "    </tr>\n",
       "  </tbody>\n",
       "</table>\n",
       "</div>"
      ],
      "text/plain": [
       "   acousticness  danceability  duration_ms  energy  explicit  \\\n",
       "0       0.65400         0.499       219827   0.190         0   \n",
       "1       0.00592         0.439       483948   0.808         0   \n",
       "2       0.73400         0.523       245693   0.288         0   \n",
       "3       0.42900         0.681       130026   0.165         0   \n",
       "4       0.56200         0.543       129813   0.575         0   \n",
       "\n",
       "   instrumentalness  key  liveness  loudness  mode  popularity  speechiness  \\\n",
       "0          0.004090    7    0.0898   -16.435     1          40       0.0454   \n",
       "1          0.140000    2    0.0890    -8.497     1          22       0.0677   \n",
       "2          0.000000    0    0.0771   -11.506     1          40       0.2140   \n",
       "3          0.000000   11    0.3940   -21.457     0           1       0.9460   \n",
       "4          0.000004    2    0.1270    -7.374     1          15       0.0265   \n",
       "\n",
       "     tempo  valence  clusters  \n",
       "0  149.460   0.4300         0  \n",
       "1  138.040   0.0587         4  \n",
       "2   75.869   0.4640         0  \n",
       "3  145.333   0.2880         3  \n",
       "4  139.272   0.8010         3  "
      ]
     },
     "execution_count": 13,
     "metadata": {},
     "output_type": "execute_result"
    }
   ],
   "source": [
    "from sklearn.cluster import KMeans\n",
    "\n",
    "# Number of clusters\n",
    "n = 5\n",
    "\n",
    "# Instanciate model & Fit \n",
    "km = KMeans(n_clusters=n)\n",
    "kmeans = km.fit(X_simple)\n",
    "\n",
    "# Get cluster predictions on X_simple\n",
    "cluster_pred = kmeans.predict(X_simple)\n",
    "cluster_pred\n",
    "\n",
    "# New column of X_engineered with clusters\n",
    "X_engineered['clusters'] = cluster_pred\n",
    "\n",
    "# Check\n",
    "X_engineered.head()"
   ]
  },
  {
   "cell_type": "markdown",
   "id": "3bdf04d9",
   "metadata": {},
   "source": [
    "📝 Check the impact of the new clusters feature on the performance of the model"
   ]
  },
  {
   "cell_type": "code",
   "execution_count": 14,
   "id": "2df51cdc",
   "metadata": {},
   "outputs": [
    {
     "name": "stdout",
     "output_type": "stream",
     "text": [
      "New score : -7.573907014963083e-14\n"
     ]
    }
   ],
   "source": [
    "# Re-train model on X_engineered\n",
    "model.fit(X_engineered, y)\n",
    "\n",
    "# Cross Validate\n",
    "scores_result_c = cross_val_score(model, X_engineered, y, cv=5, scoring=scoring)\n",
    "score_clusters = scores_result_c.mean()\n",
    "\n",
    "print(f'New score : {score_clusters}')"
   ]
  },
  {
   "cell_type": "markdown",
   "id": "dcf7a82d",
   "metadata": {},
   "source": [
    "## Preprocessing"
   ]
  },
  {
   "cell_type": "markdown",
   "id": "7b910ddf",
   "metadata": {},
   "source": [
    "🎯 **Constructing a preprocessing pipeline for the data**"
   ]
  },
  {
   "cell_type": "code",
   "execution_count": 15,
   "id": "5aaf8392",
   "metadata": {},
   "outputs": [],
   "source": [
    "# This help visualize pipelines\n",
    "from sklearn import set_config; set_config(display='diagram')"
   ]
  },
  {
   "cell_type": "code",
   "execution_count": 16,
   "id": "20b0adad",
   "metadata": {},
   "outputs": [],
   "source": [
    "# Reloading a clean new dataset\n",
    "X = df.drop(columns='popularity')\n",
    "y = df['popularity']"
   ]
  },
  {
   "cell_type": "code",
   "execution_count": 18,
   "id": "f0c9d1f3",
   "metadata": {},
   "outputs": [
    {
     "name": "stdout",
     "output_type": "stream",
     "text": [
      "Object-type columns : Index(['id', 'name', 'release_date', 'artist'], dtype='object')\n",
      "Unique values in id column : 52053\n",
      "Unique values in name column : 46641\n",
      "Unique values in realease_date column : 7547\n",
      "Unique values in artist column : 12577\n",
      "No need to One-Hot-Encode those columns\n"
     ]
    }
   ],
   "source": [
    "# Create new df with only object-type columns\n",
    "object_columns = df.select_dtypes(include=['object'])\n",
    "\n",
    "# Print the object-type columns\n",
    "print(f'Object-type columns : {object_columns.columns}')\n",
    "\n",
    "#Check their number of unique values\n",
    "print(f'Unique values in id column : {len(object_columns.id.unique())}')\n",
    "print(f'Unique values in name column : {len(object_columns.name.unique())}')\n",
    "print(f'Unique values in realease_date column : {len(object_columns.release_date.unique())}')\n",
    "print(f'Unique values in artist column : {len(object_columns.artist.unique())}')\n",
    "      \n",
    "print('No need to One-Hot-Encode those columns')"
   ]
  },
  {
   "cell_type": "markdown",
   "id": "8f14ba70",
   "metadata": {},
   "source": [
    "### Custom Transformer"
   ]
  },
  {
   "cell_type": "markdown",
   "id": "dd9a09d6",
   "metadata": {},
   "source": [
    "📝 Creating a custom transformer to extract the year from release_date"
   ]
  },
  {
   "cell_type": "code",
   "execution_count": 19,
   "id": "eb6f63f3",
   "metadata": {},
   "outputs": [],
   "source": [
    "from sklearn.preprocessing import FunctionTransformer\n",
    "\n",
    "def extract_year(x):\n",
    "    x = pd.to_datetime(x)\n",
    "    return x.dt.year\n",
    "\n",
    "transformer_year_2 = FunctionTransformer(extract_year, validate=False)"
   ]
  },
  {
   "cell_type": "code",
   "execution_count": 20,
   "id": "baed8196",
   "metadata": {},
   "outputs": [],
   "source": [
    "def release_date(data):\n",
    "    tab=[]\n",
    "    for i in range(data.shape[0]):\n",
    "        tab.append(int(data.iloc[i]['release_date'][0:4]))\n",
    "    return pd.DataFrame(tab)\n",
    "\n",
    "transformer_year = FunctionTransformer(release_date)"
   ]
  },
  {
   "cell_type": "markdown",
   "id": "5947874e",
   "metadata": {},
   "source": [
    "📝 Creating a pipeline_year"
   ]
  },
  {
   "cell_type": "code",
   "execution_count": 21,
   "id": "c14f650a",
   "metadata": {},
   "outputs": [],
   "source": [
    "from sklearn.pipeline import Pipeline\n",
    "from sklearn.preprocessing import MinMaxScaler\n",
    "\n",
    "pipeline_year = Pipeline([\n",
    "    ('transformer_year', transformer_year),\n",
    "    ('scaler', MinMaxScaler(feature_range=(0, 1)))\n",
    "])"
   ]
  },
  {
   "cell_type": "markdown",
   "id": "e645b7df",
   "metadata": {},
   "source": [
    "📝 Creating a pipeline_cluster"
   ]
  },
  {
   "cell_type": "code",
   "execution_count": 22,
   "id": "c80d6180",
   "metadata": {},
   "outputs": [],
   "source": [
    "# Provided : Custom transformer to extract a cluster id for each observation\n",
    "def process_clusters(clusters):\n",
    "    return np.argmin(clusters, axis=1).reshape((-1, 1))\n",
    "\n",
    "transformer_clusters = FunctionTransformer(process_clusters)"
   ]
  },
  {
   "cell_type": "code",
   "execution_count": 23,
   "id": "4a59835e",
   "metadata": {},
   "outputs": [
    {
     "data": {
      "text/html": [
       "<style>#sk-container-id-1 {color: black;background-color: white;}#sk-container-id-1 pre{padding: 0;}#sk-container-id-1 div.sk-toggleable {background-color: white;}#sk-container-id-1 label.sk-toggleable__label {cursor: pointer;display: block;width: 100%;margin-bottom: 0;padding: 0.3em;box-sizing: border-box;text-align: center;}#sk-container-id-1 label.sk-toggleable__label-arrow:before {content: \"▸\";float: left;margin-right: 0.25em;color: #696969;}#sk-container-id-1 label.sk-toggleable__label-arrow:hover:before {color: black;}#sk-container-id-1 div.sk-estimator:hover label.sk-toggleable__label-arrow:before {color: black;}#sk-container-id-1 div.sk-toggleable__content {max-height: 0;max-width: 0;overflow: hidden;text-align: left;background-color: #f0f8ff;}#sk-container-id-1 div.sk-toggleable__content pre {margin: 0.2em;color: black;border-radius: 0.25em;background-color: #f0f8ff;}#sk-container-id-1 input.sk-toggleable__control:checked~div.sk-toggleable__content {max-height: 200px;max-width: 100%;overflow: auto;}#sk-container-id-1 input.sk-toggleable__control:checked~label.sk-toggleable__label-arrow:before {content: \"▾\";}#sk-container-id-1 div.sk-estimator input.sk-toggleable__control:checked~label.sk-toggleable__label {background-color: #d4ebff;}#sk-container-id-1 div.sk-label input.sk-toggleable__control:checked~label.sk-toggleable__label {background-color: #d4ebff;}#sk-container-id-1 input.sk-hidden--visually {border: 0;clip: rect(1px 1px 1px 1px);clip: rect(1px, 1px, 1px, 1px);height: 1px;margin: -1px;overflow: hidden;padding: 0;position: absolute;width: 1px;}#sk-container-id-1 div.sk-estimator {font-family: monospace;background-color: #f0f8ff;border: 1px dotted black;border-radius: 0.25em;box-sizing: border-box;margin-bottom: 0.5em;}#sk-container-id-1 div.sk-estimator:hover {background-color: #d4ebff;}#sk-container-id-1 div.sk-parallel-item::after {content: \"\";width: 100%;border-bottom: 1px solid gray;flex-grow: 1;}#sk-container-id-1 div.sk-label:hover label.sk-toggleable__label {background-color: #d4ebff;}#sk-container-id-1 div.sk-serial::before {content: \"\";position: absolute;border-left: 1px solid gray;box-sizing: border-box;top: 0;bottom: 0;left: 50%;z-index: 0;}#sk-container-id-1 div.sk-serial {display: flex;flex-direction: column;align-items: center;background-color: white;padding-right: 0.2em;padding-left: 0.2em;position: relative;}#sk-container-id-1 div.sk-item {position: relative;z-index: 1;}#sk-container-id-1 div.sk-parallel {display: flex;align-items: stretch;justify-content: center;background-color: white;position: relative;}#sk-container-id-1 div.sk-item::before, #sk-container-id-1 div.sk-parallel-item::before {content: \"\";position: absolute;border-left: 1px solid gray;box-sizing: border-box;top: 0;bottom: 0;left: 50%;z-index: -1;}#sk-container-id-1 div.sk-parallel-item {display: flex;flex-direction: column;z-index: 1;position: relative;background-color: white;}#sk-container-id-1 div.sk-parallel-item:first-child::after {align-self: flex-end;width: 50%;}#sk-container-id-1 div.sk-parallel-item:last-child::after {align-self: flex-start;width: 50%;}#sk-container-id-1 div.sk-parallel-item:only-child::after {width: 0;}#sk-container-id-1 div.sk-dashed-wrapped {border: 1px dashed gray;margin: 0 0.4em 0.5em 0.4em;box-sizing: border-box;padding-bottom: 0.4em;background-color: white;}#sk-container-id-1 div.sk-label label {font-family: monospace;font-weight: bold;display: inline-block;line-height: 1.2em;}#sk-container-id-1 div.sk-label-container {text-align: center;}#sk-container-id-1 div.sk-container {/* jupyter's `normalize.less` sets `[hidden] { display: none; }` but bootstrap.min.css set `[hidden] { display: none !important; }` so we also need the `!important` here to be able to override the default hidden behavior on the sphinx rendered scikit-learn.org. See: https://github.com/scikit-learn/scikit-learn/issues/21755 */display: inline-block !important;position: relative;}#sk-container-id-1 div.sk-text-repr-fallback {display: none;}</style><div id=\"sk-container-id-1\" class=\"sk-top-container\"><div class=\"sk-text-repr-fallback\"><pre>Pipeline(steps=[(&#x27;kmeans&#x27;, KMeans(n_clusters=5)),\n",
       "                (&#x27;transformer_cluster&#x27;,\n",
       "                 FunctionTransformer(func=&lt;function process_clusters at 0x1184fe560&gt;)),\n",
       "                (&#x27;encoder&#x27;, OneHotEncoder(handle_unknown=&#x27;ignore&#x27;))])</pre><b>In a Jupyter environment, please rerun this cell to show the HTML representation or trust the notebook. <br />On GitHub, the HTML representation is unable to render, please try loading this page with nbviewer.org.</b></div><div class=\"sk-container\" hidden><div class=\"sk-item sk-dashed-wrapped\"><div class=\"sk-label-container\"><div class=\"sk-label sk-toggleable\"><input class=\"sk-toggleable__control sk-hidden--visually\" id=\"sk-estimator-id-1\" type=\"checkbox\" ><label for=\"sk-estimator-id-1\" class=\"sk-toggleable__label sk-toggleable__label-arrow\">Pipeline</label><div class=\"sk-toggleable__content\"><pre>Pipeline(steps=[(&#x27;kmeans&#x27;, KMeans(n_clusters=5)),\n",
       "                (&#x27;transformer_cluster&#x27;,\n",
       "                 FunctionTransformer(func=&lt;function process_clusters at 0x1184fe560&gt;)),\n",
       "                (&#x27;encoder&#x27;, OneHotEncoder(handle_unknown=&#x27;ignore&#x27;))])</pre></div></div></div><div class=\"sk-serial\"><div class=\"sk-item\"><div class=\"sk-estimator sk-toggleable\"><input class=\"sk-toggleable__control sk-hidden--visually\" id=\"sk-estimator-id-2\" type=\"checkbox\" ><label for=\"sk-estimator-id-2\" class=\"sk-toggleable__label sk-toggleable__label-arrow\">KMeans</label><div class=\"sk-toggleable__content\"><pre>KMeans(n_clusters=5)</pre></div></div></div><div class=\"sk-item\"><div class=\"sk-estimator sk-toggleable\"><input class=\"sk-toggleable__control sk-hidden--visually\" id=\"sk-estimator-id-3\" type=\"checkbox\" ><label for=\"sk-estimator-id-3\" class=\"sk-toggleable__label sk-toggleable__label-arrow\">FunctionTransformer</label><div class=\"sk-toggleable__content\"><pre>FunctionTransformer(func=&lt;function process_clusters at 0x1184fe560&gt;)</pre></div></div></div><div class=\"sk-item\"><div class=\"sk-estimator sk-toggleable\"><input class=\"sk-toggleable__control sk-hidden--visually\" id=\"sk-estimator-id-4\" type=\"checkbox\" ><label for=\"sk-estimator-id-4\" class=\"sk-toggleable__label sk-toggleable__label-arrow\">OneHotEncoder</label><div class=\"sk-toggleable__content\"><pre>OneHotEncoder(handle_unknown=&#x27;ignore&#x27;)</pre></div></div></div></div></div></div></div>"
      ],
      "text/plain": [
       "Pipeline(steps=[('kmeans', KMeans(n_clusters=5)),\n",
       "                ('transformer_cluster',\n",
       "                 FunctionTransformer(func=<function process_clusters at 0x1184fe560>)),\n",
       "                ('encoder', OneHotEncoder(handle_unknown='ignore'))])"
      ]
     },
     "execution_count": 23,
     "metadata": {},
     "output_type": "execute_result"
    }
   ],
   "source": [
    "from sklearn.preprocessing import OneHotEncoder\n",
    "\n",
    "pipeline_clusters = Pipeline([\n",
    "    ('kmeans', KMeans(n_clusters=n)),\n",
    "    ('transformer_cluster', transformer_clusters),\n",
    "    ('encoder', OneHotEncoder(handle_unknown='ignore'))\n",
    "])\n",
    "\n",
    "pipeline_clusters"
   ]
  },
  {
   "cell_type": "markdown",
   "id": "9fdc03f1",
   "metadata": {},
   "source": [
    "📝 Creating a pipeline_artist"
   ]
  },
  {
   "cell_type": "code",
   "execution_count": 24,
   "id": "c4205364",
   "metadata": {},
   "outputs": [],
   "source": [
    "# Provided : Custom transformer custom Transformer Class below\n",
    "\n",
    "from sklearn.base import BaseEstimator, TransformerMixin\n",
    "\n",
    "class ArtistPopularityTransformer(BaseEstimator, TransformerMixin):\n",
    "    \"\"\"\n",
    "    Compute, as a new feature the artist's popularity\n",
    "    Do so by computing the mean popularity of all songs from the artist\n",
    "    Notice that the popularity is computed on the train only to avoid leakage\n",
    "    \"\"\"\n",
    "\n",
    "    def __init__(self):\n",
    "        pass\n",
    "\n",
    "    def fit(self, X, y=None):\n",
    "        \"\"\"\n",
    "        process artist mean popularity from artists songs popularity\n",
    "        process song global mean popularity\n",
    "        \"\"\"\n",
    "\n",
    "        # process artist popularity\n",
    "        self.artist_popularity = y.groupby(X.artist).agg(\"mean\")\n",
    "        self.artist_popularity.name = \"artist_popularity\"\n",
    "\n",
    "        # process mean popularity\n",
    "        self.mean_popularity = y.mean()\n",
    "\n",
    "        return self\n",
    "\n",
    "    def transform(self, X, y=None):\n",
    "        \"\"\"\n",
    "        apply artist mean popularity vs song global mean popularity to songs\n",
    "        \"\"\"\n",
    "\n",
    "        # inject artist popularity\n",
    "        X_copy = X.merge(self.artist_popularity, how=\"left\", left_on=\"artist\", right_index=True)\n",
    "\n",
    "        # fills popularity of unknown artists with song global mean popularity\n",
    "        X_copy.replace(np.nan, self.mean_popularity, inplace=True)\n",
    "\n",
    "        return X_copy[[\"artist_popularity\"]]"
   ]
  },
  {
   "cell_type": "code",
   "execution_count": 25,
   "id": "d8b761c1",
   "metadata": {},
   "outputs": [],
   "source": [
    "# Instanciate and fit Class\n",
    "artist_popularity = ArtistPopularityTransformer()\n",
    "artist_popularity = artist_popularity.fit(X,y)\n",
    "\n",
    "# Make pipeline\n",
    "pipeline_artist = Pipeline([\n",
    "    ('transformer', ArtistPopularityTransformer()),\n",
    "    ('scaler', MinMaxScaler(feature_range=(0, 1)))\n",
    "])"
   ]
  },
  {
   "cell_type": "markdown",
   "id": "f10d048e",
   "metadata": {},
   "source": [
    "### Preprocessing Pipeline with all Column Transformers"
   ]
  },
  {
   "cell_type": "code",
   "execution_count": 26,
   "id": "bbc6c833",
   "metadata": {},
   "outputs": [
    {
     "data": {
      "text/html": [
       "<style>#sk-container-id-2 {color: black;background-color: white;}#sk-container-id-2 pre{padding: 0;}#sk-container-id-2 div.sk-toggleable {background-color: white;}#sk-container-id-2 label.sk-toggleable__label {cursor: pointer;display: block;width: 100%;margin-bottom: 0;padding: 0.3em;box-sizing: border-box;text-align: center;}#sk-container-id-2 label.sk-toggleable__label-arrow:before {content: \"▸\";float: left;margin-right: 0.25em;color: #696969;}#sk-container-id-2 label.sk-toggleable__label-arrow:hover:before {color: black;}#sk-container-id-2 div.sk-estimator:hover label.sk-toggleable__label-arrow:before {color: black;}#sk-container-id-2 div.sk-toggleable__content {max-height: 0;max-width: 0;overflow: hidden;text-align: left;background-color: #f0f8ff;}#sk-container-id-2 div.sk-toggleable__content pre {margin: 0.2em;color: black;border-radius: 0.25em;background-color: #f0f8ff;}#sk-container-id-2 input.sk-toggleable__control:checked~div.sk-toggleable__content {max-height: 200px;max-width: 100%;overflow: auto;}#sk-container-id-2 input.sk-toggleable__control:checked~label.sk-toggleable__label-arrow:before {content: \"▾\";}#sk-container-id-2 div.sk-estimator input.sk-toggleable__control:checked~label.sk-toggleable__label {background-color: #d4ebff;}#sk-container-id-2 div.sk-label input.sk-toggleable__control:checked~label.sk-toggleable__label {background-color: #d4ebff;}#sk-container-id-2 input.sk-hidden--visually {border: 0;clip: rect(1px 1px 1px 1px);clip: rect(1px, 1px, 1px, 1px);height: 1px;margin: -1px;overflow: hidden;padding: 0;position: absolute;width: 1px;}#sk-container-id-2 div.sk-estimator {font-family: monospace;background-color: #f0f8ff;border: 1px dotted black;border-radius: 0.25em;box-sizing: border-box;margin-bottom: 0.5em;}#sk-container-id-2 div.sk-estimator:hover {background-color: #d4ebff;}#sk-container-id-2 div.sk-parallel-item::after {content: \"\";width: 100%;border-bottom: 1px solid gray;flex-grow: 1;}#sk-container-id-2 div.sk-label:hover label.sk-toggleable__label {background-color: #d4ebff;}#sk-container-id-2 div.sk-serial::before {content: \"\";position: absolute;border-left: 1px solid gray;box-sizing: border-box;top: 0;bottom: 0;left: 50%;z-index: 0;}#sk-container-id-2 div.sk-serial {display: flex;flex-direction: column;align-items: center;background-color: white;padding-right: 0.2em;padding-left: 0.2em;position: relative;}#sk-container-id-2 div.sk-item {position: relative;z-index: 1;}#sk-container-id-2 div.sk-parallel {display: flex;align-items: stretch;justify-content: center;background-color: white;position: relative;}#sk-container-id-2 div.sk-item::before, #sk-container-id-2 div.sk-parallel-item::before {content: \"\";position: absolute;border-left: 1px solid gray;box-sizing: border-box;top: 0;bottom: 0;left: 50%;z-index: -1;}#sk-container-id-2 div.sk-parallel-item {display: flex;flex-direction: column;z-index: 1;position: relative;background-color: white;}#sk-container-id-2 div.sk-parallel-item:first-child::after {align-self: flex-end;width: 50%;}#sk-container-id-2 div.sk-parallel-item:last-child::after {align-self: flex-start;width: 50%;}#sk-container-id-2 div.sk-parallel-item:only-child::after {width: 0;}#sk-container-id-2 div.sk-dashed-wrapped {border: 1px dashed gray;margin: 0 0.4em 0.5em 0.4em;box-sizing: border-box;padding-bottom: 0.4em;background-color: white;}#sk-container-id-2 div.sk-label label {font-family: monospace;font-weight: bold;display: inline-block;line-height: 1.2em;}#sk-container-id-2 div.sk-label-container {text-align: center;}#sk-container-id-2 div.sk-container {/* jupyter's `normalize.less` sets `[hidden] { display: none; }` but bootstrap.min.css set `[hidden] { display: none !important; }` so we also need the `!important` here to be able to override the default hidden behavior on the sphinx rendered scikit-learn.org. See: https://github.com/scikit-learn/scikit-learn/issues/21755 */display: inline-block !important;position: relative;}#sk-container-id-2 div.sk-text-repr-fallback {display: none;}</style><div id=\"sk-container-id-2\" class=\"sk-top-container\"><div class=\"sk-text-repr-fallback\"><pre>ColumnTransformer(transformers=[(&#x27;num_features&#x27;,\n",
       "                                 Pipeline(steps=[(&#x27;kmeans&#x27;,\n",
       "                                                  KMeans(n_clusters=5)),\n",
       "                                                 (&#x27;transformer_cluster&#x27;,\n",
       "                                                  FunctionTransformer(func=&lt;function process_clusters at 0x1184fe560&gt;)),\n",
       "                                                 (&#x27;encoder&#x27;,\n",
       "                                                  OneHotEncoder(handle_unknown=&#x27;ignore&#x27;))]),\n",
       "                                 [&#x27;acousticness&#x27;, &#x27;danceability&#x27;, &#x27;duration_ms&#x27;,\n",
       "                                  &#x27;energy&#x27;, &#x27;explicit&#x27;, &#x27;instrumentalness&#x27;,\n",
       "                                  &#x27;key&#x27;, &#x27;liveness&#x27;, &#x27;loudness&#x27;...\n",
       "                                  &#x27;energy&#x27;, &#x27;explicit&#x27;, &#x27;instrumentalness&#x27;,\n",
       "                                  &#x27;key&#x27;, &#x27;liveness&#x27;, &#x27;loudness&#x27;, &#x27;mode&#x27;,\n",
       "                                  &#x27;speechiness&#x27;, &#x27;tempo&#x27;, &#x27;valence&#x27;]),\n",
       "                                (&#x27;release_date&#x27;,\n",
       "                                 Pipeline(steps=[(&#x27;transformer_year&#x27;,\n",
       "                                                  FunctionTransformer(func=&lt;function release_date at 0x12548ac20&gt;)),\n",
       "                                                 (&#x27;scaler&#x27;, MinMaxScaler())]),\n",
       "                                 [&#x27;release_date&#x27;]),\n",
       "                                (&#x27;artist&#x27;,\n",
       "                                 Pipeline(steps=[(&#x27;transformer&#x27;,\n",
       "                                                  ArtistPopularityTransformer()),\n",
       "                                                 (&#x27;scaler&#x27;, MinMaxScaler())]),\n",
       "                                 [&#x27;artist&#x27;])])</pre><b>In a Jupyter environment, please rerun this cell to show the HTML representation or trust the notebook. <br />On GitHub, the HTML representation is unable to render, please try loading this page with nbviewer.org.</b></div><div class=\"sk-container\" hidden><div class=\"sk-item sk-dashed-wrapped\"><div class=\"sk-label-container\"><div class=\"sk-label sk-toggleable\"><input class=\"sk-toggleable__control sk-hidden--visually\" id=\"sk-estimator-id-5\" type=\"checkbox\" ><label for=\"sk-estimator-id-5\" class=\"sk-toggleable__label sk-toggleable__label-arrow\">ColumnTransformer</label><div class=\"sk-toggleable__content\"><pre>ColumnTransformer(transformers=[(&#x27;num_features&#x27;,\n",
       "                                 Pipeline(steps=[(&#x27;kmeans&#x27;,\n",
       "                                                  KMeans(n_clusters=5)),\n",
       "                                                 (&#x27;transformer_cluster&#x27;,\n",
       "                                                  FunctionTransformer(func=&lt;function process_clusters at 0x1184fe560&gt;)),\n",
       "                                                 (&#x27;encoder&#x27;,\n",
       "                                                  OneHotEncoder(handle_unknown=&#x27;ignore&#x27;))]),\n",
       "                                 [&#x27;acousticness&#x27;, &#x27;danceability&#x27;, &#x27;duration_ms&#x27;,\n",
       "                                  &#x27;energy&#x27;, &#x27;explicit&#x27;, &#x27;instrumentalness&#x27;,\n",
       "                                  &#x27;key&#x27;, &#x27;liveness&#x27;, &#x27;loudness&#x27;...\n",
       "                                  &#x27;energy&#x27;, &#x27;explicit&#x27;, &#x27;instrumentalness&#x27;,\n",
       "                                  &#x27;key&#x27;, &#x27;liveness&#x27;, &#x27;loudness&#x27;, &#x27;mode&#x27;,\n",
       "                                  &#x27;speechiness&#x27;, &#x27;tempo&#x27;, &#x27;valence&#x27;]),\n",
       "                                (&#x27;release_date&#x27;,\n",
       "                                 Pipeline(steps=[(&#x27;transformer_year&#x27;,\n",
       "                                                  FunctionTransformer(func=&lt;function release_date at 0x12548ac20&gt;)),\n",
       "                                                 (&#x27;scaler&#x27;, MinMaxScaler())]),\n",
       "                                 [&#x27;release_date&#x27;]),\n",
       "                                (&#x27;artist&#x27;,\n",
       "                                 Pipeline(steps=[(&#x27;transformer&#x27;,\n",
       "                                                  ArtistPopularityTransformer()),\n",
       "                                                 (&#x27;scaler&#x27;, MinMaxScaler())]),\n",
       "                                 [&#x27;artist&#x27;])])</pre></div></div></div><div class=\"sk-parallel\"><div class=\"sk-parallel-item\"><div class=\"sk-item\"><div class=\"sk-label-container\"><div class=\"sk-label sk-toggleable\"><input class=\"sk-toggleable__control sk-hidden--visually\" id=\"sk-estimator-id-6\" type=\"checkbox\" ><label for=\"sk-estimator-id-6\" class=\"sk-toggleable__label sk-toggleable__label-arrow\">num_features</label><div class=\"sk-toggleable__content\"><pre>[&#x27;acousticness&#x27;, &#x27;danceability&#x27;, &#x27;duration_ms&#x27;, &#x27;energy&#x27;, &#x27;explicit&#x27;, &#x27;instrumentalness&#x27;, &#x27;key&#x27;, &#x27;liveness&#x27;, &#x27;loudness&#x27;, &#x27;mode&#x27;, &#x27;speechiness&#x27;, &#x27;tempo&#x27;, &#x27;valence&#x27;]</pre></div></div></div><div class=\"sk-serial\"><div class=\"sk-item\"><div class=\"sk-serial\"><div class=\"sk-item\"><div class=\"sk-estimator sk-toggleable\"><input class=\"sk-toggleable__control sk-hidden--visually\" id=\"sk-estimator-id-7\" type=\"checkbox\" ><label for=\"sk-estimator-id-7\" class=\"sk-toggleable__label sk-toggleable__label-arrow\">KMeans</label><div class=\"sk-toggleable__content\"><pre>KMeans(n_clusters=5)</pre></div></div></div><div class=\"sk-item\"><div class=\"sk-estimator sk-toggleable\"><input class=\"sk-toggleable__control sk-hidden--visually\" id=\"sk-estimator-id-8\" type=\"checkbox\" ><label for=\"sk-estimator-id-8\" class=\"sk-toggleable__label sk-toggleable__label-arrow\">FunctionTransformer</label><div class=\"sk-toggleable__content\"><pre>FunctionTransformer(func=&lt;function process_clusters at 0x1184fe560&gt;)</pre></div></div></div><div class=\"sk-item\"><div class=\"sk-estimator sk-toggleable\"><input class=\"sk-toggleable__control sk-hidden--visually\" id=\"sk-estimator-id-9\" type=\"checkbox\" ><label for=\"sk-estimator-id-9\" class=\"sk-toggleable__label sk-toggleable__label-arrow\">OneHotEncoder</label><div class=\"sk-toggleable__content\"><pre>OneHotEncoder(handle_unknown=&#x27;ignore&#x27;)</pre></div></div></div></div></div></div></div></div><div class=\"sk-parallel-item\"><div class=\"sk-item\"><div class=\"sk-label-container\"><div class=\"sk-label sk-toggleable\"><input class=\"sk-toggleable__control sk-hidden--visually\" id=\"sk-estimator-id-10\" type=\"checkbox\" ><label for=\"sk-estimator-id-10\" class=\"sk-toggleable__label sk-toggleable__label-arrow\">scaler_num</label><div class=\"sk-toggleable__content\"><pre>[&#x27;acousticness&#x27;, &#x27;danceability&#x27;, &#x27;duration_ms&#x27;, &#x27;energy&#x27;, &#x27;explicit&#x27;, &#x27;instrumentalness&#x27;, &#x27;key&#x27;, &#x27;liveness&#x27;, &#x27;loudness&#x27;, &#x27;mode&#x27;, &#x27;speechiness&#x27;, &#x27;tempo&#x27;, &#x27;valence&#x27;]</pre></div></div></div><div class=\"sk-serial\"><div class=\"sk-item\"><div class=\"sk-estimator sk-toggleable\"><input class=\"sk-toggleable__control sk-hidden--visually\" id=\"sk-estimator-id-11\" type=\"checkbox\" ><label for=\"sk-estimator-id-11\" class=\"sk-toggleable__label sk-toggleable__label-arrow\">MinMaxScaler</label><div class=\"sk-toggleable__content\"><pre>MinMaxScaler()</pre></div></div></div></div></div></div><div class=\"sk-parallel-item\"><div class=\"sk-item\"><div class=\"sk-label-container\"><div class=\"sk-label sk-toggleable\"><input class=\"sk-toggleable__control sk-hidden--visually\" id=\"sk-estimator-id-12\" type=\"checkbox\" ><label for=\"sk-estimator-id-12\" class=\"sk-toggleable__label sk-toggleable__label-arrow\">release_date</label><div class=\"sk-toggleable__content\"><pre>[&#x27;release_date&#x27;]</pre></div></div></div><div class=\"sk-serial\"><div class=\"sk-item\"><div class=\"sk-serial\"><div class=\"sk-item\"><div class=\"sk-estimator sk-toggleable\"><input class=\"sk-toggleable__control sk-hidden--visually\" id=\"sk-estimator-id-13\" type=\"checkbox\" ><label for=\"sk-estimator-id-13\" class=\"sk-toggleable__label sk-toggleable__label-arrow\">FunctionTransformer</label><div class=\"sk-toggleable__content\"><pre>FunctionTransformer(func=&lt;function release_date at 0x12548ac20&gt;)</pre></div></div></div><div class=\"sk-item\"><div class=\"sk-estimator sk-toggleable\"><input class=\"sk-toggleable__control sk-hidden--visually\" id=\"sk-estimator-id-14\" type=\"checkbox\" ><label for=\"sk-estimator-id-14\" class=\"sk-toggleable__label sk-toggleable__label-arrow\">MinMaxScaler</label><div class=\"sk-toggleable__content\"><pre>MinMaxScaler()</pre></div></div></div></div></div></div></div></div><div class=\"sk-parallel-item\"><div class=\"sk-item\"><div class=\"sk-label-container\"><div class=\"sk-label sk-toggleable\"><input class=\"sk-toggleable__control sk-hidden--visually\" id=\"sk-estimator-id-15\" type=\"checkbox\" ><label for=\"sk-estimator-id-15\" class=\"sk-toggleable__label sk-toggleable__label-arrow\">artist</label><div class=\"sk-toggleable__content\"><pre>[&#x27;artist&#x27;]</pre></div></div></div><div class=\"sk-serial\"><div class=\"sk-item\"><div class=\"sk-serial\"><div class=\"sk-item\"><div class=\"sk-estimator sk-toggleable\"><input class=\"sk-toggleable__control sk-hidden--visually\" id=\"sk-estimator-id-16\" type=\"checkbox\" ><label for=\"sk-estimator-id-16\" class=\"sk-toggleable__label sk-toggleable__label-arrow\">ArtistPopularityTransformer</label><div class=\"sk-toggleable__content\"><pre>ArtistPopularityTransformer()</pre></div></div></div><div class=\"sk-item\"><div class=\"sk-estimator sk-toggleable\"><input class=\"sk-toggleable__control sk-hidden--visually\" id=\"sk-estimator-id-17\" type=\"checkbox\" ><label for=\"sk-estimator-id-17\" class=\"sk-toggleable__label sk-toggleable__label-arrow\">MinMaxScaler</label><div class=\"sk-toggleable__content\"><pre>MinMaxScaler()</pre></div></div></div></div></div></div></div></div></div></div></div></div>"
      ],
      "text/plain": [
       "ColumnTransformer(transformers=[('num_features',\n",
       "                                 Pipeline(steps=[('kmeans',\n",
       "                                                  KMeans(n_clusters=5)),\n",
       "                                                 ('transformer_cluster',\n",
       "                                                  FunctionTransformer(func=<function process_clusters at 0x1184fe560>)),\n",
       "                                                 ('encoder',\n",
       "                                                  OneHotEncoder(handle_unknown='ignore'))]),\n",
       "                                 ['acousticness', 'danceability', 'duration_ms',\n",
       "                                  'energy', 'explicit', 'instrumentalness',\n",
       "                                  'key', 'liveness', 'loudness'...\n",
       "                                  'energy', 'explicit', 'instrumentalness',\n",
       "                                  'key', 'liveness', 'loudness', 'mode',\n",
       "                                  'speechiness', 'tempo', 'valence']),\n",
       "                                ('release_date',\n",
       "                                 Pipeline(steps=[('transformer_year',\n",
       "                                                  FunctionTransformer(func=<function release_date at 0x12548ac20>)),\n",
       "                                                 ('scaler', MinMaxScaler())]),\n",
       "                                 ['release_date']),\n",
       "                                ('artist',\n",
       "                                 Pipeline(steps=[('transformer',\n",
       "                                                  ArtistPopularityTransformer()),\n",
       "                                                 ('scaler', MinMaxScaler())]),\n",
       "                                 ['artist'])])"
      ]
     },
     "execution_count": 26,
     "metadata": {},
     "output_type": "execute_result"
    }
   ],
   "source": [
    "from sklearn.compose import ColumnTransformer\n",
    "\n",
    "# Select only numeric features\n",
    "numeric_features = ['acousticness','danceability',\n",
    " 'duration_ms',\n",
    " 'energy',\n",
    " 'explicit',\n",
    " 'instrumentalness',\n",
    " 'key',\n",
    " 'liveness',\n",
    " 'loudness',\n",
    " 'mode',\n",
    " 'speechiness',\n",
    " 'tempo',\n",
    " 'valence']\n",
    "\n",
    "# Create preprocessor Pipeline\n",
    "preprocessor = ColumnTransformer([\n",
    "    ('num_features', pipeline_clusters, numeric_features),\n",
    "    ('scaler_num', MinMaxScaler(), numeric_features),\n",
    "    ('release_date', pipeline_year, ['release_date']),\n",
    "    ('artist', pipeline_artist, ['artist'])],remainder='drop')\n",
    "\n",
    "preprocessor"
   ]
  },
  {
   "cell_type": "markdown",
   "id": "afd6992c",
   "metadata": {},
   "source": [
    "📝 Use pipeline to transform X to X_transformed"
   ]
  },
  {
   "cell_type": "code",
   "execution_count": 27,
   "id": "8328919e",
   "metadata": {},
   "outputs": [],
   "source": [
    "# Fit Preprocessor \n",
    "preprocessor.fit(X,y)\n",
    "\n",
    "# Transform X\n",
    "X_transformed = preprocessor.transform(X)"
   ]
  },
  {
   "cell_type": "markdown",
   "id": "fae8529b",
   "metadata": {},
   "source": [
    "## Model Selection"
   ]
  },
  {
   "cell_type": "markdown",
   "id": "d5748a15",
   "metadata": {},
   "source": [
    "🎯 **Select the model that yields the best performance**"
   ]
  },
  {
   "cell_type": "markdown",
   "id": "7d965fdb",
   "metadata": {},
   "source": [
    "### Linear Models"
   ]
  },
  {
   "cell_type": "code",
   "execution_count": 28,
   "id": "a24dfb79",
   "metadata": {},
   "outputs": [
    {
     "name": "stdout",
     "output_type": "stream",
     "text": [
      "Ridge model score : -13.490872264015414\n"
     ]
    }
   ],
   "source": [
    "from sklearn.linear_model import Ridge\n",
    "from sklearn.pipeline import make_pipeline\n",
    "\n",
    "# Construct Pipeline with processor + model\n",
    "pipe_linear = make_pipeline(preprocessor, Ridge())\n",
    "\n",
    "# Cross-validate Pipeline\n",
    "score_linear = cross_val_score(pipe_linear, X, y, cv=5, scoring=scoring).mean()\n",
    "\n",
    "print(f'Ridge model score : {score_linear}')"
   ]
  },
  {
   "cell_type": "markdown",
   "id": "78424e7a",
   "metadata": {},
   "source": [
    "### Ensemble Methods"
   ]
  },
  {
   "cell_type": "code",
   "execution_count": 33,
   "id": "229bbfc2",
   "metadata": {},
   "outputs": [
    {
     "name": "stdout",
     "output_type": "stream",
     "text": [
      "RandomForestRegressor model score : -12.807720776858616\n"
     ]
    }
   ],
   "source": [
    "from sklearn.ensemble import RandomForestRegressor\n",
    "\n",
    "# Instanciate model\n",
    "model = RandomForestRegressor(max_depth=5,min_samples_leaf=5)\n",
    "\n",
    "# Create a pipeline with preprocessor and ensemble model\n",
    "pipe_ensemble = Pipeline([\n",
    "    ('preprocessor', preprocessor),\n",
    "    ('model', model)\n",
    "])\n",
    "\n",
    "# Cross-validate \n",
    "score_ensemble = cross_val_score(pipe_ensemble, X, y, cv=5, scoring=scoring).mean()\n",
    "\n",
    "print(f'RandomForestRegressor model score : {score_ensemble}')"
   ]
  },
  {
   "cell_type": "code",
   "execution_count": 34,
   "id": "2b5ebb3c",
   "metadata": {},
   "outputs": [
    {
     "name": "stdout",
     "output_type": "stream",
     "text": [
      "GBR model score : -12.460574124599251\n"
     ]
    }
   ],
   "source": [
    "# Trying another model\n",
    "\n",
    "from sklearn.ensemble import GradientBoostingRegressor\n",
    "\n",
    "# Instanciate model\n",
    "model_gbr = GradientBoostingRegressor(\n",
    "    n_estimators=100, \n",
    "    learning_rate=0.1,\n",
    "    max_depth=3\n",
    ")\n",
    "\n",
    "# Construct Pipeline with processor + model\n",
    "pipe_gb = make_pipeline(preprocessor, model_gbr)\n",
    "\n",
    "# Cross-validate \n",
    "score = cross_val_score(pipe_gb, X, y, cv=5, scoring=scoring)\n",
    "\n",
    "print(f'GBR model score : {score.mean()}')"
   ]
  },
  {
   "cell_type": "markdown",
   "id": "38182edc",
   "metadata": {},
   "source": [
    "## Fine-Tuning "
   ]
  },
  {
   "cell_type": "markdown",
   "id": "a48a7fa7",
   "metadata": {},
   "source": [
    "🎯 **Fine-tuning the best model to achieve the highest possible score**"
   ]
  },
  {
   "cell_type": "markdown",
   "id": "56d5b07d",
   "metadata": {},
   "source": [
    "📝 Cross-validating grid search "
   ]
  },
  {
   "cell_type": "code",
   "execution_count": 35,
   "id": "d958441c",
   "metadata": {},
   "outputs": [
    {
     "data": {
      "text/html": [
       "<style>#sk-container-id-3 {color: black;background-color: white;}#sk-container-id-3 pre{padding: 0;}#sk-container-id-3 div.sk-toggleable {background-color: white;}#sk-container-id-3 label.sk-toggleable__label {cursor: pointer;display: block;width: 100%;margin-bottom: 0;padding: 0.3em;box-sizing: border-box;text-align: center;}#sk-container-id-3 label.sk-toggleable__label-arrow:before {content: \"▸\";float: left;margin-right: 0.25em;color: #696969;}#sk-container-id-3 label.sk-toggleable__label-arrow:hover:before {color: black;}#sk-container-id-3 div.sk-estimator:hover label.sk-toggleable__label-arrow:before {color: black;}#sk-container-id-3 div.sk-toggleable__content {max-height: 0;max-width: 0;overflow: hidden;text-align: left;background-color: #f0f8ff;}#sk-container-id-3 div.sk-toggleable__content pre {margin: 0.2em;color: black;border-radius: 0.25em;background-color: #f0f8ff;}#sk-container-id-3 input.sk-toggleable__control:checked~div.sk-toggleable__content {max-height: 200px;max-width: 100%;overflow: auto;}#sk-container-id-3 input.sk-toggleable__control:checked~label.sk-toggleable__label-arrow:before {content: \"▾\";}#sk-container-id-3 div.sk-estimator input.sk-toggleable__control:checked~label.sk-toggleable__label {background-color: #d4ebff;}#sk-container-id-3 div.sk-label input.sk-toggleable__control:checked~label.sk-toggleable__label {background-color: #d4ebff;}#sk-container-id-3 input.sk-hidden--visually {border: 0;clip: rect(1px 1px 1px 1px);clip: rect(1px, 1px, 1px, 1px);height: 1px;margin: -1px;overflow: hidden;padding: 0;position: absolute;width: 1px;}#sk-container-id-3 div.sk-estimator {font-family: monospace;background-color: #f0f8ff;border: 1px dotted black;border-radius: 0.25em;box-sizing: border-box;margin-bottom: 0.5em;}#sk-container-id-3 div.sk-estimator:hover {background-color: #d4ebff;}#sk-container-id-3 div.sk-parallel-item::after {content: \"\";width: 100%;border-bottom: 1px solid gray;flex-grow: 1;}#sk-container-id-3 div.sk-label:hover label.sk-toggleable__label {background-color: #d4ebff;}#sk-container-id-3 div.sk-serial::before {content: \"\";position: absolute;border-left: 1px solid gray;box-sizing: border-box;top: 0;bottom: 0;left: 50%;z-index: 0;}#sk-container-id-3 div.sk-serial {display: flex;flex-direction: column;align-items: center;background-color: white;padding-right: 0.2em;padding-left: 0.2em;position: relative;}#sk-container-id-3 div.sk-item {position: relative;z-index: 1;}#sk-container-id-3 div.sk-parallel {display: flex;align-items: stretch;justify-content: center;background-color: white;position: relative;}#sk-container-id-3 div.sk-item::before, #sk-container-id-3 div.sk-parallel-item::before {content: \"\";position: absolute;border-left: 1px solid gray;box-sizing: border-box;top: 0;bottom: 0;left: 50%;z-index: -1;}#sk-container-id-3 div.sk-parallel-item {display: flex;flex-direction: column;z-index: 1;position: relative;background-color: white;}#sk-container-id-3 div.sk-parallel-item:first-child::after {align-self: flex-end;width: 50%;}#sk-container-id-3 div.sk-parallel-item:last-child::after {align-self: flex-start;width: 50%;}#sk-container-id-3 div.sk-parallel-item:only-child::after {width: 0;}#sk-container-id-3 div.sk-dashed-wrapped {border: 1px dashed gray;margin: 0 0.4em 0.5em 0.4em;box-sizing: border-box;padding-bottom: 0.4em;background-color: white;}#sk-container-id-3 div.sk-label label {font-family: monospace;font-weight: bold;display: inline-block;line-height: 1.2em;}#sk-container-id-3 div.sk-label-container {text-align: center;}#sk-container-id-3 div.sk-container {/* jupyter's `normalize.less` sets `[hidden] { display: none; }` but bootstrap.min.css set `[hidden] { display: none !important; }` so we also need the `!important` here to be able to override the default hidden behavior on the sphinx rendered scikit-learn.org. See: https://github.com/scikit-learn/scikit-learn/issues/21755 */display: inline-block !important;position: relative;}#sk-container-id-3 div.sk-text-repr-fallback {display: none;}</style><div id=\"sk-container-id-3\" class=\"sk-top-container\"><div class=\"sk-text-repr-fallback\"><pre>GridSearchCV(cv=5,\n",
       "             estimator=Pipeline(steps=[(&#x27;preprocessor&#x27;,\n",
       "                                        ColumnTransformer(transformers=[(&#x27;num_features&#x27;,\n",
       "                                                                         Pipeline(steps=[(&#x27;kmeans&#x27;,\n",
       "                                                                                          KMeans(n_clusters=5)),\n",
       "                                                                                         (&#x27;transformer_cluster&#x27;,\n",
       "                                                                                          FunctionTransformer(func=&lt;function process_clusters at 0x1184fe560&gt;)),\n",
       "                                                                                         (&#x27;encoder&#x27;,\n",
       "                                                                                          OneHotEncoder(handle_unknown=&#x27;ignore&#x27;))]),\n",
       "                                                                         [&#x27;acousticness&#x27;,\n",
       "                                                                          &#x27;danceability&#x27;,\n",
       "                                                                          &#x27;duration_ms&#x27;,\n",
       "                                                                          &#x27;energ...\n",
       "                                                                                          FunctionTransformer(func=&lt;function release_date at 0x12548ac20&gt;)),\n",
       "                                                                                         (&#x27;scaler&#x27;,\n",
       "                                                                                          MinMaxScaler())]),\n",
       "                                                                         [&#x27;release_date&#x27;]),\n",
       "                                                                        (&#x27;artist&#x27;,\n",
       "                                                                         Pipeline(steps=[(&#x27;transformer&#x27;,\n",
       "                                                                                          ArtistPopularityTransformer()),\n",
       "                                                                                         (&#x27;scaler&#x27;,\n",
       "                                                                                          MinMaxScaler())]),\n",
       "                                                                         [&#x27;artist&#x27;])])),\n",
       "                                       (&#x27;model&#x27;,\n",
       "                                        RandomForestRegressor(max_depth=5,\n",
       "                                                              min_samples_leaf=5))]),\n",
       "             param_grid={&#x27;model__max_depth&#x27;: [5, 10, 15],\n",
       "                         &#x27;model__n_estimators&#x27;: [10, 50, 100]},\n",
       "             scoring=&#x27;neg_root_mean_squared_error&#x27;)</pre><b>In a Jupyter environment, please rerun this cell to show the HTML representation or trust the notebook. <br />On GitHub, the HTML representation is unable to render, please try loading this page with nbviewer.org.</b></div><div class=\"sk-container\" hidden><div class=\"sk-item sk-dashed-wrapped\"><div class=\"sk-label-container\"><div class=\"sk-label sk-toggleable\"><input class=\"sk-toggleable__control sk-hidden--visually\" id=\"sk-estimator-id-18\" type=\"checkbox\" ><label for=\"sk-estimator-id-18\" class=\"sk-toggleable__label sk-toggleable__label-arrow\">GridSearchCV</label><div class=\"sk-toggleable__content\"><pre>GridSearchCV(cv=5,\n",
       "             estimator=Pipeline(steps=[(&#x27;preprocessor&#x27;,\n",
       "                                        ColumnTransformer(transformers=[(&#x27;num_features&#x27;,\n",
       "                                                                         Pipeline(steps=[(&#x27;kmeans&#x27;,\n",
       "                                                                                          KMeans(n_clusters=5)),\n",
       "                                                                                         (&#x27;transformer_cluster&#x27;,\n",
       "                                                                                          FunctionTransformer(func=&lt;function process_clusters at 0x1184fe560&gt;)),\n",
       "                                                                                         (&#x27;encoder&#x27;,\n",
       "                                                                                          OneHotEncoder(handle_unknown=&#x27;ignore&#x27;))]),\n",
       "                                                                         [&#x27;acousticness&#x27;,\n",
       "                                                                          &#x27;danceability&#x27;,\n",
       "                                                                          &#x27;duration_ms&#x27;,\n",
       "                                                                          &#x27;energ...\n",
       "                                                                                          FunctionTransformer(func=&lt;function release_date at 0x12548ac20&gt;)),\n",
       "                                                                                         (&#x27;scaler&#x27;,\n",
       "                                                                                          MinMaxScaler())]),\n",
       "                                                                         [&#x27;release_date&#x27;]),\n",
       "                                                                        (&#x27;artist&#x27;,\n",
       "                                                                         Pipeline(steps=[(&#x27;transformer&#x27;,\n",
       "                                                                                          ArtistPopularityTransformer()),\n",
       "                                                                                         (&#x27;scaler&#x27;,\n",
       "                                                                                          MinMaxScaler())]),\n",
       "                                                                         [&#x27;artist&#x27;])])),\n",
       "                                       (&#x27;model&#x27;,\n",
       "                                        RandomForestRegressor(max_depth=5,\n",
       "                                                              min_samples_leaf=5))]),\n",
       "             param_grid={&#x27;model__max_depth&#x27;: [5, 10, 15],\n",
       "                         &#x27;model__n_estimators&#x27;: [10, 50, 100]},\n",
       "             scoring=&#x27;neg_root_mean_squared_error&#x27;)</pre></div></div></div><div class=\"sk-parallel\"><div class=\"sk-parallel-item\"><div class=\"sk-item\"><div class=\"sk-label-container\"><div class=\"sk-label sk-toggleable\"><input class=\"sk-toggleable__control sk-hidden--visually\" id=\"sk-estimator-id-19\" type=\"checkbox\" ><label for=\"sk-estimator-id-19\" class=\"sk-toggleable__label sk-toggleable__label-arrow\">estimator: Pipeline</label><div class=\"sk-toggleable__content\"><pre>Pipeline(steps=[(&#x27;preprocessor&#x27;,\n",
       "                 ColumnTransformer(transformers=[(&#x27;num_features&#x27;,\n",
       "                                                  Pipeline(steps=[(&#x27;kmeans&#x27;,\n",
       "                                                                   KMeans(n_clusters=5)),\n",
       "                                                                  (&#x27;transformer_cluster&#x27;,\n",
       "                                                                   FunctionTransformer(func=&lt;function process_clusters at 0x1184fe560&gt;)),\n",
       "                                                                  (&#x27;encoder&#x27;,\n",
       "                                                                   OneHotEncoder(handle_unknown=&#x27;ignore&#x27;))]),\n",
       "                                                  [&#x27;acousticness&#x27;,\n",
       "                                                   &#x27;danceability&#x27;,\n",
       "                                                   &#x27;duration_ms&#x27;, &#x27;energy&#x27;,\n",
       "                                                   &#x27;explicit&#x27;,\n",
       "                                                   &#x27;instrumentaln...\n",
       "                                                   &#x27;tempo&#x27;, &#x27;valence&#x27;]),\n",
       "                                                 (&#x27;release_date&#x27;,\n",
       "                                                  Pipeline(steps=[(&#x27;transformer_year&#x27;,\n",
       "                                                                   FunctionTransformer(func=&lt;function release_date at 0x12548ac20&gt;)),\n",
       "                                                                  (&#x27;scaler&#x27;,\n",
       "                                                                   MinMaxScaler())]),\n",
       "                                                  [&#x27;release_date&#x27;]),\n",
       "                                                 (&#x27;artist&#x27;,\n",
       "                                                  Pipeline(steps=[(&#x27;transformer&#x27;,\n",
       "                                                                   ArtistPopularityTransformer()),\n",
       "                                                                  (&#x27;scaler&#x27;,\n",
       "                                                                   MinMaxScaler())]),\n",
       "                                                  [&#x27;artist&#x27;])])),\n",
       "                (&#x27;model&#x27;,\n",
       "                 RandomForestRegressor(max_depth=5, min_samples_leaf=5))])</pre></div></div></div><div class=\"sk-serial\"><div class=\"sk-item\"><div class=\"sk-serial\"><div class=\"sk-item sk-dashed-wrapped\"><div class=\"sk-label-container\"><div class=\"sk-label sk-toggleable\"><input class=\"sk-toggleable__control sk-hidden--visually\" id=\"sk-estimator-id-20\" type=\"checkbox\" ><label for=\"sk-estimator-id-20\" class=\"sk-toggleable__label sk-toggleable__label-arrow\">preprocessor: ColumnTransformer</label><div class=\"sk-toggleable__content\"><pre>ColumnTransformer(transformers=[(&#x27;num_features&#x27;,\n",
       "                                 Pipeline(steps=[(&#x27;kmeans&#x27;,\n",
       "                                                  KMeans(n_clusters=5)),\n",
       "                                                 (&#x27;transformer_cluster&#x27;,\n",
       "                                                  FunctionTransformer(func=&lt;function process_clusters at 0x1184fe560&gt;)),\n",
       "                                                 (&#x27;encoder&#x27;,\n",
       "                                                  OneHotEncoder(handle_unknown=&#x27;ignore&#x27;))]),\n",
       "                                 [&#x27;acousticness&#x27;, &#x27;danceability&#x27;, &#x27;duration_ms&#x27;,\n",
       "                                  &#x27;energy&#x27;, &#x27;explicit&#x27;, &#x27;instrumentalness&#x27;,\n",
       "                                  &#x27;key&#x27;, &#x27;liveness&#x27;, &#x27;loudness&#x27;...\n",
       "                                  &#x27;energy&#x27;, &#x27;explicit&#x27;, &#x27;instrumentalness&#x27;,\n",
       "                                  &#x27;key&#x27;, &#x27;liveness&#x27;, &#x27;loudness&#x27;, &#x27;mode&#x27;,\n",
       "                                  &#x27;speechiness&#x27;, &#x27;tempo&#x27;, &#x27;valence&#x27;]),\n",
       "                                (&#x27;release_date&#x27;,\n",
       "                                 Pipeline(steps=[(&#x27;transformer_year&#x27;,\n",
       "                                                  FunctionTransformer(func=&lt;function release_date at 0x12548ac20&gt;)),\n",
       "                                                 (&#x27;scaler&#x27;, MinMaxScaler())]),\n",
       "                                 [&#x27;release_date&#x27;]),\n",
       "                                (&#x27;artist&#x27;,\n",
       "                                 Pipeline(steps=[(&#x27;transformer&#x27;,\n",
       "                                                  ArtistPopularityTransformer()),\n",
       "                                                 (&#x27;scaler&#x27;, MinMaxScaler())]),\n",
       "                                 [&#x27;artist&#x27;])])</pre></div></div></div><div class=\"sk-parallel\"><div class=\"sk-parallel-item\"><div class=\"sk-item\"><div class=\"sk-label-container\"><div class=\"sk-label sk-toggleable\"><input class=\"sk-toggleable__control sk-hidden--visually\" id=\"sk-estimator-id-21\" type=\"checkbox\" ><label for=\"sk-estimator-id-21\" class=\"sk-toggleable__label sk-toggleable__label-arrow\">num_features</label><div class=\"sk-toggleable__content\"><pre>[&#x27;acousticness&#x27;, &#x27;danceability&#x27;, &#x27;duration_ms&#x27;, &#x27;energy&#x27;, &#x27;explicit&#x27;, &#x27;instrumentalness&#x27;, &#x27;key&#x27;, &#x27;liveness&#x27;, &#x27;loudness&#x27;, &#x27;mode&#x27;, &#x27;speechiness&#x27;, &#x27;tempo&#x27;, &#x27;valence&#x27;]</pre></div></div></div><div class=\"sk-serial\"><div class=\"sk-item\"><div class=\"sk-serial\"><div class=\"sk-item\"><div class=\"sk-estimator sk-toggleable\"><input class=\"sk-toggleable__control sk-hidden--visually\" id=\"sk-estimator-id-22\" type=\"checkbox\" ><label for=\"sk-estimator-id-22\" class=\"sk-toggleable__label sk-toggleable__label-arrow\">KMeans</label><div class=\"sk-toggleable__content\"><pre>KMeans(n_clusters=5)</pre></div></div></div><div class=\"sk-item\"><div class=\"sk-estimator sk-toggleable\"><input class=\"sk-toggleable__control sk-hidden--visually\" id=\"sk-estimator-id-23\" type=\"checkbox\" ><label for=\"sk-estimator-id-23\" class=\"sk-toggleable__label sk-toggleable__label-arrow\">FunctionTransformer</label><div class=\"sk-toggleable__content\"><pre>FunctionTransformer(func=&lt;function process_clusters at 0x1184fe560&gt;)</pre></div></div></div><div class=\"sk-item\"><div class=\"sk-estimator sk-toggleable\"><input class=\"sk-toggleable__control sk-hidden--visually\" id=\"sk-estimator-id-24\" type=\"checkbox\" ><label for=\"sk-estimator-id-24\" class=\"sk-toggleable__label sk-toggleable__label-arrow\">OneHotEncoder</label><div class=\"sk-toggleable__content\"><pre>OneHotEncoder(handle_unknown=&#x27;ignore&#x27;)</pre></div></div></div></div></div></div></div></div><div class=\"sk-parallel-item\"><div class=\"sk-item\"><div class=\"sk-label-container\"><div class=\"sk-label sk-toggleable\"><input class=\"sk-toggleable__control sk-hidden--visually\" id=\"sk-estimator-id-25\" type=\"checkbox\" ><label for=\"sk-estimator-id-25\" class=\"sk-toggleable__label sk-toggleable__label-arrow\">scaler_num</label><div class=\"sk-toggleable__content\"><pre>[&#x27;acousticness&#x27;, &#x27;danceability&#x27;, &#x27;duration_ms&#x27;, &#x27;energy&#x27;, &#x27;explicit&#x27;, &#x27;instrumentalness&#x27;, &#x27;key&#x27;, &#x27;liveness&#x27;, &#x27;loudness&#x27;, &#x27;mode&#x27;, &#x27;speechiness&#x27;, &#x27;tempo&#x27;, &#x27;valence&#x27;]</pre></div></div></div><div class=\"sk-serial\"><div class=\"sk-item\"><div class=\"sk-estimator sk-toggleable\"><input class=\"sk-toggleable__control sk-hidden--visually\" id=\"sk-estimator-id-26\" type=\"checkbox\" ><label for=\"sk-estimator-id-26\" class=\"sk-toggleable__label sk-toggleable__label-arrow\">MinMaxScaler</label><div class=\"sk-toggleable__content\"><pre>MinMaxScaler()</pre></div></div></div></div></div></div><div class=\"sk-parallel-item\"><div class=\"sk-item\"><div class=\"sk-label-container\"><div class=\"sk-label sk-toggleable\"><input class=\"sk-toggleable__control sk-hidden--visually\" id=\"sk-estimator-id-27\" type=\"checkbox\" ><label for=\"sk-estimator-id-27\" class=\"sk-toggleable__label sk-toggleable__label-arrow\">release_date</label><div class=\"sk-toggleable__content\"><pre>[&#x27;release_date&#x27;]</pre></div></div></div><div class=\"sk-serial\"><div class=\"sk-item\"><div class=\"sk-serial\"><div class=\"sk-item\"><div class=\"sk-estimator sk-toggleable\"><input class=\"sk-toggleable__control sk-hidden--visually\" id=\"sk-estimator-id-28\" type=\"checkbox\" ><label for=\"sk-estimator-id-28\" class=\"sk-toggleable__label sk-toggleable__label-arrow\">FunctionTransformer</label><div class=\"sk-toggleable__content\"><pre>FunctionTransformer(func=&lt;function release_date at 0x12548ac20&gt;)</pre></div></div></div><div class=\"sk-item\"><div class=\"sk-estimator sk-toggleable\"><input class=\"sk-toggleable__control sk-hidden--visually\" id=\"sk-estimator-id-29\" type=\"checkbox\" ><label for=\"sk-estimator-id-29\" class=\"sk-toggleable__label sk-toggleable__label-arrow\">MinMaxScaler</label><div class=\"sk-toggleable__content\"><pre>MinMaxScaler()</pre></div></div></div></div></div></div></div></div><div class=\"sk-parallel-item\"><div class=\"sk-item\"><div class=\"sk-label-container\"><div class=\"sk-label sk-toggleable\"><input class=\"sk-toggleable__control sk-hidden--visually\" id=\"sk-estimator-id-30\" type=\"checkbox\" ><label for=\"sk-estimator-id-30\" class=\"sk-toggleable__label sk-toggleable__label-arrow\">artist</label><div class=\"sk-toggleable__content\"><pre>[&#x27;artist&#x27;]</pre></div></div></div><div class=\"sk-serial\"><div class=\"sk-item\"><div class=\"sk-serial\"><div class=\"sk-item\"><div class=\"sk-estimator sk-toggleable\"><input class=\"sk-toggleable__control sk-hidden--visually\" id=\"sk-estimator-id-31\" type=\"checkbox\" ><label for=\"sk-estimator-id-31\" class=\"sk-toggleable__label sk-toggleable__label-arrow\">ArtistPopularityTransformer</label><div class=\"sk-toggleable__content\"><pre>ArtistPopularityTransformer()</pre></div></div></div><div class=\"sk-item\"><div class=\"sk-estimator sk-toggleable\"><input class=\"sk-toggleable__control sk-hidden--visually\" id=\"sk-estimator-id-32\" type=\"checkbox\" ><label for=\"sk-estimator-id-32\" class=\"sk-toggleable__label sk-toggleable__label-arrow\">MinMaxScaler</label><div class=\"sk-toggleable__content\"><pre>MinMaxScaler()</pre></div></div></div></div></div></div></div></div></div></div><div class=\"sk-item\"><div class=\"sk-estimator sk-toggleable\"><input class=\"sk-toggleable__control sk-hidden--visually\" id=\"sk-estimator-id-33\" type=\"checkbox\" ><label for=\"sk-estimator-id-33\" class=\"sk-toggleable__label sk-toggleable__label-arrow\">RandomForestRegressor</label><div class=\"sk-toggleable__content\"><pre>RandomForestRegressor(max_depth=5, min_samples_leaf=5)</pre></div></div></div></div></div></div></div></div></div></div></div></div>"
      ],
      "text/plain": [
       "GridSearchCV(cv=5,\n",
       "             estimator=Pipeline(steps=[('preprocessor',\n",
       "                                        ColumnTransformer(transformers=[('num_features',\n",
       "                                                                         Pipeline(steps=[('kmeans',\n",
       "                                                                                          KMeans(n_clusters=5)),\n",
       "                                                                                         ('transformer_cluster',\n",
       "                                                                                          FunctionTransformer(func=<function process_clusters at 0x1184fe560>)),\n",
       "                                                                                         ('encoder',\n",
       "                                                                                          OneHotEncoder(handle_unknown='ignore'))]),\n",
       "                                                                         ['acousticness',\n",
       "                                                                          'danceability',\n",
       "                                                                          'duration_ms',\n",
       "                                                                          'energ...\n",
       "                                                                                          FunctionTransformer(func=<function release_date at 0x12548ac20>)),\n",
       "                                                                                         ('scaler',\n",
       "                                                                                          MinMaxScaler())]),\n",
       "                                                                         ['release_date']),\n",
       "                                                                        ('artist',\n",
       "                                                                         Pipeline(steps=[('transformer',\n",
       "                                                                                          ArtistPopularityTransformer()),\n",
       "                                                                                         ('scaler',\n",
       "                                                                                          MinMaxScaler())]),\n",
       "                                                                         ['artist'])])),\n",
       "                                       ('model',\n",
       "                                        RandomForestRegressor(max_depth=5,\n",
       "                                                              min_samples_leaf=5))]),\n",
       "             param_grid={'model__max_depth': [5, 10, 15],\n",
       "                         'model__n_estimators': [10, 50, 100]},\n",
       "             scoring='neg_root_mean_squared_error')"
      ]
     },
     "execution_count": 35,
     "metadata": {},
     "output_type": "execute_result"
    }
   ],
   "source": [
    "from sklearn.model_selection import GridSearchCV\n",
    "\n",
    "# Create a dictionary with the hyperparameters to search\n",
    "grid = {\n",
    "    'model__n_estimators': [10, 50, 100],\n",
    "    'model__max_depth': [5, 10, 15]\n",
    "}\n",
    "\n",
    "# Create the cross-validated grid search\n",
    "search = GridSearchCV(pipe_ensemble, grid, scoring=scoring, cv=5)\n",
    "\n",
    "# Fit GridSearchCV\n",
    "search.fit(X,y)"
   ]
  },
  {
   "cell_type": "code",
   "execution_count": 36,
   "id": "cc502a5c",
   "metadata": {},
   "outputs": [
    {
     "name": "stdout",
     "output_type": "stream",
     "text": [
      "Best score: -11.953710737138397\n",
      "Best parameters: {'model__max_depth': 15, 'model__n_estimators': 50}\n"
     ]
    }
   ],
   "source": [
    "# Print the best score and best parameters\n",
    "print(f'Best score: {search.best_score_}')\n",
    "print(f'Best parameters: {search.best_params_}')"
   ]
  },
  {
   "cell_type": "markdown",
   "id": "e95b7126",
   "metadata": {},
   "source": [
    "## Recommendations and Continuous Improvement"
   ]
  },
  {
   "cell_type": "markdown",
   "id": "4963a447",
   "metadata": {},
   "source": [
    "🎯 **Transform a regression task into a classification task**"
   ]
  },
  {
   "cell_type": "markdown",
   "id": "bb32b69b",
   "metadata": {},
   "source": [
    "📝 Creating a new target y_cat"
   ]
  },
  {
   "cell_type": "code",
   "execution_count": 37,
   "id": "a07a8748",
   "metadata": {},
   "outputs": [],
   "source": [
    "# Calculate the median of y\n",
    "median = y.median()\n",
    "\n",
    "# Create y_cat using the median of y\n",
    "y_cat = y.apply(lambda x: 1 if x >= median else 0)"
   ]
  },
  {
   "cell_type": "markdown",
   "id": "abbbf145",
   "metadata": {},
   "source": [
    "📝 Cross validating a classification with accuracy metric"
   ]
  },
  {
   "cell_type": "code",
   "execution_count": 39,
   "id": "1bb1f4eb",
   "metadata": {},
   "outputs": [
    {
     "name": "stderr",
     "output_type": "stream",
     "text": [
      "/Users/marionfarout/.pyenv/versions/3.10.6/envs/lewagon/lib/python3.10/site-packages/sklearn/linear_model/_logistic.py:444: ConvergenceWarning: lbfgs failed to converge (status=1):\n",
      "STOP: TOTAL NO. of ITERATIONS REACHED LIMIT.\n",
      "\n",
      "Increase the number of iterations (max_iter) or scale the data as shown in:\n",
      "    https://scikit-learn.org/stable/modules/preprocessing.html\n",
      "Please also refer to the documentation for alternative solver options:\n",
      "    https://scikit-learn.org/stable/modules/linear_model.html#logistic-regression\n",
      "  n_iter_i = _check_optimize_result(\n",
      "/Users/marionfarout/.pyenv/versions/3.10.6/envs/lewagon/lib/python3.10/site-packages/sklearn/linear_model/_logistic.py:444: ConvergenceWarning: lbfgs failed to converge (status=1):\n",
      "STOP: TOTAL NO. of ITERATIONS REACHED LIMIT.\n",
      "\n",
      "Increase the number of iterations (max_iter) or scale the data as shown in:\n",
      "    https://scikit-learn.org/stable/modules/preprocessing.html\n",
      "Please also refer to the documentation for alternative solver options:\n",
      "    https://scikit-learn.org/stable/modules/linear_model.html#logistic-regression\n",
      "  n_iter_i = _check_optimize_result(\n"
     ]
    },
    {
     "name": "stdout",
     "output_type": "stream",
     "text": [
      "Accuracy score for LogReg : 0.8309223775082348\n"
     ]
    }
   ],
   "source": [
    "# Create the pipeline with preprocessor and model\n",
    "\n",
    "from sklearn.linear_model import LogisticRegression\n",
    "\n",
    "pipe_cat = Pipeline([\n",
    "    ('preprocessor', preprocessor),\n",
    "    ('model', LogisticRegression())\n",
    "])\n",
    "\n",
    "# Cross validate the pipeline with 5 folds\n",
    "scores = cross_val_score(pipe_cat, X, y_cat, cv=5, scoring='accuracy')\n",
    "\n",
    "# Calculate the mean of the scores\n",
    "score_cat = scores.mean()\n",
    "\n",
    "print(f'Accuracy score for LogReg : {score_cat}')"
   ]
  },
  {
   "cell_type": "code",
   "execution_count": null,
   "id": "cb37abbd",
   "metadata": {},
   "outputs": [],
   "source": []
  }
 ],
 "metadata": {
  "kernelspec": {
   "display_name": "Python 3 (ipykernel)",
   "language": "python",
   "name": "python3"
  },
  "language_info": {
   "codemirror_mode": {
    "name": "ipython",
    "version": 3
   },
   "file_extension": ".py",
   "mimetype": "text/x-python",
   "name": "python",
   "nbconvert_exporter": "python",
   "pygments_lexer": "ipython3",
   "version": "3.10.6"
  },
  "toc": {
   "base_numbering": 1,
   "nav_menu": {},
   "number_sections": true,
   "sideBar": true,
   "skip_h1_title": false,
   "title_cell": "Table of Contents",
   "title_sidebar": "Contents",
   "toc_cell": false,
   "toc_position": {},
   "toc_section_display": true,
   "toc_window_display": false
  }
 },
 "nbformat": 4,
 "nbformat_minor": 5
}
